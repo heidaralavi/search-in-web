{
 "cells": [
  {
   "cell_type": "code",
   "execution_count": 21,
   "id": "ae40702b",
   "metadata": {},
   "outputs": [
    {
     "name": "stdout",
     "output_type": "stream",
     "text": [
      "Collecting bs4\n",
      "  Downloading bs4-0.0.1.tar.gz (1.1 kB)\n",
      "Requirement already satisfied: beautifulsoup4 in c:\\users\\heidar\\anaconda3\\lib\\site-packages (from bs4) (4.10.0)\n",
      "Requirement already satisfied: soupsieve>1.2 in c:\\users\\heidar\\anaconda3\\lib\\site-packages (from beautifulsoup4->bs4) (2.2.1)\n",
      "Building wheels for collected packages: bs4\n",
      "  Building wheel for bs4 (setup.py): started\n",
      "  Building wheel for bs4 (setup.py): finished with status 'done'\n",
      "  Created wheel for bs4: filename=bs4-0.0.1-py3-none-any.whl size=1271 sha256=c2b2ab20c3cc646e218014552b772da072b0e1a02e6094fa3772a441fbdf86b8\n",
      "  Stored in directory: c:\\users\\heidar\\appdata\\local\\pip\\cache\\wheels\\73\\2b\\cb\\099980278a0c9a3e57ff1a89875ec07bfa0b6fcbebb9a8cad3\n",
      "Successfully built bs4\n",
      "Installing collected packages: bs4\n",
      "Successfully installed bs4-0.0.1\n"
     ]
    }
   ],
   "source": [
    "!pip install bs4"
   ]
  },
  {
   "cell_type": "code",
   "execution_count": 22,
   "id": "2c1338ef",
   "metadata": {},
   "outputs": [
    {
     "name": "stdout",
     "output_type": "stream",
     "text": [
      "Requirement already satisfied: requests in c:\\users\\heidar\\anaconda3\\lib\\site-packages (2.26.0)\n",
      "Requirement already satisfied: certifi>=2017.4.17 in c:\\users\\heidar\\anaconda3\\lib\\site-packages (from requests) (2021.10.8)\n",
      "Requirement already satisfied: charset-normalizer~=2.0.0 in c:\\users\\heidar\\anaconda3\\lib\\site-packages (from requests) (2.0.4)\n",
      "Requirement already satisfied: urllib3<1.27,>=1.21.1 in c:\\users\\heidar\\anaconda3\\lib\\site-packages (from requests) (1.26.7)\n",
      "Requirement already satisfied: idna<4,>=2.5 in c:\\users\\heidar\\anaconda3\\lib\\site-packages (from requests) (3.2)\n"
     ]
    }
   ],
   "source": [
    "!pip install requests"
   ]
  },
  {
   "cell_type": "code",
   "execution_count": 23,
   "id": "0f3b6d9e",
   "metadata": {},
   "outputs": [],
   "source": [
    "import json\n",
    "import os \n",
    "from pprint import pprint\n",
    "import requests\n",
    "from IPython.display import HTML"
   ]
  },
  {
   "cell_type": "code",
   "execution_count": 24,
   "id": "973141d7",
   "metadata": {},
   "outputs": [
    {
     "name": "stdout",
     "output_type": "stream",
     "text": [
      "<!DOCTYPE html>\n",
      "<html lang=\"en-IR\"><head><meta charset=\"utf-8\"/><meta content=\"/images/branding/googleg/1x/googleg_standard_color_128dp.png\" itemprop=\"image\"/><title>geeksforgeeks - Google Search</title><script nonce=\"h6OBS9ZoR0LInteKziY5gw==\">(function(){\n",
      "document.documentElement.addEventListener(\"submit\",function(b){var a;if(a=b.target){var c=a.getAttribute(\"data-submitfalse\");a=\"1\"===c||\"q\"===c&&!a.elements.q.value?!0:!1}else a=!1;a&&(b.preventDefault(),b.stopPropagation())},!0);document.documentElement.addEventListener(\"click\",function(b){var a;a:{for(a=b.target;a&&a!==document.documentElement;a=a.parentElement)if(\"A\"===a.tagName){a=\"1\"===a.getAttribute(\"data-nohref\");break a}a=!1}a&&b.preventDefault()},!0);}).call(this);(function(){\n",
      "var a=window.performance;window.start=Date.now();a:{var b=window;if(a){var c=a.timing;if(c){var d=c.navigationStart,f=c.responseStart;if(f>d&&f<=window.start){window.start=f;b.wsrt=f-d;break a}}a.now&&(b.wsrt=Math.floor(a.now()))}}window.google=window.google||{};var h=function(g){g&&g.target.setAttribute(\"data-iml\",Date.now())};document.documentElement.addEventListener(\"load\",h,!0);google.rglh=function(){document.documentElement.removeEventListener(\"load\",h,!0)};}).call(this);(function(){window.google.erd={jsr:1,bv:1547,de:true};})();(function(){var sdo=false;var mei=10;\n",
      "var f=this||self;var g,h=null!=(g=f.mei)?g:1,m,n=null!=(m=f.sdo)?m:!0,p=0,q,r=google.erd,u=r.jsr;google.ml=function(a,b,d,k,c){c=void 0===c?2:c;b&&(q=a&&a.message);if(google.dl)return google.dl(a,c,d),null;if(0>u){window.console&&console.error(a,d);if(-2===u)throw a;b=!1}else b=!a||!a.message||\"Error loading script\"===a.message||p>=h&&!k?!1:!0;if(!b)return null;p++;d=d||{};var e=c;c=encodeURIComponent;b=\"/gen_204?atyp=i&ei=\"+c(google.kEI);google.kEXPI&&(b+=\"&jexpid=\"+c(google.kEXPI));b+=\"&srcpg=\"+c(google.sn)+\"&jsr=\"+c(r.jsr)+\"&bver=\"+c(r.bv)+(\"&jsel=\"+e);e=a.lineNumber;void 0!==e&&(b+=\"&line=\"+\n",
      "e);var l=a.fileName;l&&(b+=\"&script=\"+c(l),e&&l===window.location.href&&(e=document.documentElement.outerHTML.split(\"\\n\")[e],b+=\"&cad=\"+c(e?e.substring(0,300):\"No script found.\")));for(var t in d)b+=\"&\",b+=c(t),b+=\"=\",b+=c(d[t]);b=b+\"&emsg=\"+c(a.name+\": \"+a.message);b=b+\"&jsst=\"+c(a.stack||\"N/A\");12288<=b.length&&(b=b.substr(0,12288));a=b;k||google.log(0,\"\",a);return a};window.onerror=function(a,b,d,k,c){q!==a&&(a=c instanceof Error?c:Error(a),void 0===d||\"lineNumber\"in a||(a.lineNumber=d),void 0===b||\"fileName\"in a||(a.fileName=b),google.ml(a,!1,void 0,!1,\"SyntaxError\"===a.name||\"SyntaxError\"===a.message.substring(0,11)?2:0));q=null;n&&p>=h&&(window.onerror=null)};})();(function(){\n",
      "var c=[],e=0;window.ping=function(b){-1==b.indexOf(\"&zx\")&&(b+=\"&zx=\"+Date.now());var a=new Image,d=e++;c[d]=a;a.onerror=a.onload=a.onabort=function(){delete c[d]};a.src=b};}).call(this);</script><style>body{margin:0 auto;max-width:652px;padding:0 8px;}a{color:#1a0dab;text-decoration:none;tap-highlight-color:rgba(0,0,0,.10)}a:visited{color:#4b11a8}a:hover{text-decoration:underline}img{border:0}html{font-family:Roboto,Helvetica Neue,Arial,sans-serif;font-size:14px;line-height:20px;text-size-adjust:100%;color:#3c4043;word-wrap:break-word;background-color:#fff}.bRsWnc{background-color:#fff;border-top:1px solid #dadce0;height:39px;overflow:hidden}.N6RWV{height:51px;overflow-scrolling:touch;overflow-x:auto;overflow-y:hidden}.Uv67qb{box-pack:justify;font-size:12px;line-height:37px;justify-content:space-between;justify-content:space-between}.Uv67qb a,.Uv67qb span{color:#70757a;display:block;flex:none;padding:0 16px;text-align:center;text-transform:uppercase;}span.OXXup{border-bottom:2px solid #4285f4;color:#4285f4;font-weight:bold}a.eZt8xd:visited{color:#70757a}.FElbsf{border-left:1px solid rgba(0,0,0,.12)}header article{overflow:visible}.Pg70bf{height:39px;display:box;display:flex;display:flex;width:100%}.H0PQec{position:relative;flex:1}.sbc{display:flex;width:100%}.Pg70bf input{margin:2px 4px 2px 8px;}.x{width:26px;color:#70757a;font:27px/38px arial, sans-serif;line-height:40px;}#qdClwb{flex:0 0 auto;width:39px;height:39px;border-bottom:0;padding:0;border-top-right-radius:8px;background-color:#1a73e8;border:1px solid #1558d6;background-image:url(data:image/gif;base64,R0lGODdhJAAjAPIHAODr/nCk+MPZ/FmV96zK+/7+/5K5+kqL9iwAAAAAJAAjAEADani63P4wykmbKcQRXDscQAEMXmmeaLQVLCukzyC09AjfeK7v/MAajACLhPMVAgwjsUcEiZa8xgAYrVqv2Kx2iwsIAAABknfBBAKrTE4IcMyot8ur8datqIbQfJdnAfo2WE6BV05wXIiJigkAOw==);}.sc{font-size:16px;position:absolute;top:39px;left:0;right:0;box-shadow:0px 2px 5px rgba(0,0,0,.2);z-index:2;background-color:#fff}.sc>div{padding:10px 10px;padding-left:16px;padding-left:14px;border-top:1px solid #dfe1e5}.scs{background-color:#f8f9fa;}.noHIxc{display:block;font-size:16px;padding:0 0 0 8px;flex:1;height:35px;outline:none;border:none;width:100%;-webkit-tap-highlight-color:rgba(0,0,0,.00);overflow:hidden;}.sbc input[type=text]{background:none}.sml .cOl4Id{display:none}.l{display:none}.sml header{background:none}.sml .l{display:block;padding:0 8px}.sml .l{letter-spacing:-1px;text-align:center;border-radius:2px 0 0 0;font:22px/36px Futura, Arial, sans-serif;font-smoothing:antialiased}.bz1lBb{background:#fff;border-radius:8px 8px 0 0;box-shadow:0 0 0 1px #dfe1e5;margin-top:24px}.KP7LCb{border-radius:0 0 8px 8px;box-shadow:0px 1px 0px 1px #dfe1e5;margin-bottom:30px;overflow:hidden}body{margin:0 auto 0 156px;max-width:652px;min-width:652px}.cOl4Id{letter-spacing:-1px;text-align:center;font:22pt Futura, Arial, sans-serif;height:37px;font-smoothing:antialiased;padding:32px 28px 0 24px;position:absolute;left:0;top:0}.cOl4Id span{display:inline-block}.V6gwVd{color:#4285f4}.iWkuvd{color:#ea4335}.cDrQ7{color:#fcc934}.ntlR9{color:#34a853}.tJ3Myc{-webkit-transform:rotate(-20deg);position:relative;left:-1px;display:inline-block}footer{text-align:center;margin-top:18px}footer a,footer a:visited,.smiUbb{color:#70757a}.xeDNfc{margin:0 13px}#EOlPnc{margin-top:36px}#EOlPnc>div{margin:20px}.Srfpq{color:#70757a}</style></head><body jsmodel=\"hspDDf\"><header id=\"hdr\"><script nonce=\"h6OBS9ZoR0LInteKziY5gw==\">(function(){\n",
      "var k=this||self,l=function(){},m=function(a){var b=typeof a;return\"object\"==b&&null!=a||\"function\"==b},n=function(a,b){function c(){}c.prototype=b.prototype;a.j=b.prototype;a.prototype=new c;a.prototype.constructor=a;a.l=function(d,e,f){for(var g=Array(arguments.length-2),h=2;h<arguments.length;h++)g[h-2]=arguments[h];return b.prototype[e].apply(d,g)}};var p=Array.prototype.indexOf?function(a,b){return Array.prototype.indexOf.call(a,b,void 0)}:function(a,b){if(\"string\"===typeof a)return\"string\"!==typeof b||1!=b.length?-1:a.indexOf(b,0);for(var c=0;c<a.length;c++)if(c in a&&a[c]===b)return c;return-1};var q=function(a){return\"string\"==typeof a.className?a.className:a.getAttribute&&a.getAttribute(\"class\")||\"\"},r=function(a,b){\"string\"==typeof a.className?a.className=b:a.setAttribute&&a.setAttribute(\"class\",b)},t=function(a,b){a.classList?b=a.classList.contains(b):(a=a.classList?a.classList:q(a).match(/\\S+/g)||[],b=0<=p(a,b));return b},w=function(){var a=u,b=v;a.classList?a.classList.remove(b):t(a,b)&&r(a,Array.prototype.filter.call(a.classList?a.classList:q(a).match(/\\S+/g)||[],function(c){return c!=\n",
      "b}).join(\" \"))};function x(){var a=k.navigator;return a&&(a=a.userAgent)?a:\"\"};var y=function(a){y[\" \"](a);return a};y[\" \"]=l;var z=-1!=x().indexOf(\"Gecko\")&&!(-1!=x().toLowerCase().indexOf(\"webkit\")&&-1==x().indexOf(\"Edge\"))&&!(-1!=x().indexOf(\"Trident\")||-1!=x().indexOf(\"MSIE\"))&&-1==x().indexOf(\"Edge\");var A=function(a,b){this.type=a;this.target=b};A.prototype.g=function(){};var B=function(){if(!k.addEventListener||!Object.defineProperty)return!1;var a=!1,b=Object.defineProperty({},\"passive\",{get:function(){a=!0}});try{k.addEventListener(\"test\",l,b),k.removeEventListener(\"test\",l,b)}catch(c){}return a}();var D=function(a){A.call(this,a?a.type:\"\");this.relatedTarget=this.target=null;this.button=this.screenY=this.screenX=this.clientY=this.clientX=0;this.key=\"\";this.keyCode=0;this.metaKey=this.shiftKey=this.altKey=this.ctrlKey=!1;this.state=null;this.pointerId=0;this.pointerType=\"\";this.h=null;if(a){var b=this.type=a.type,c=a.changedTouches&&a.changedTouches.length?a.changedTouches[0]:null;this.target=a.target||a.srcElement;var d=a.relatedTarget;if(d){if(z){a:{try{y(d.nodeName);var e=!0;break a}catch(f){}e=\n",
      "!1}e||(d=null)}}else\"mouseover\"==b?d=a.fromElement:\"mouseout\"==b&&(d=a.toElement);this.relatedTarget=d;c?(this.clientX=void 0!==c.clientX?c.clientX:c.pageX,this.clientY=void 0!==c.clientY?c.clientY:c.pageY,this.screenX=c.screenX||0,this.screenY=c.screenY||0):(this.clientX=void 0!==a.clientX?a.clientX:a.pageX,this.clientY=void 0!==a.clientY?a.clientY:a.pageY,this.screenX=a.screenX||0,this.screenY=a.screenY||0);this.button=a.button;this.keyCode=a.keyCode||0;this.key=a.key||\"\";this.ctrlKey=a.ctrlKey;this.altKey=a.altKey;this.shiftKey=a.shiftKey;this.metaKey=a.metaKey;this.pointerId=a.pointerId||0;this.pointerType=\"string\"===typeof a.pointerType?a.pointerType:C[a.pointerType]||\"\";this.state=a.state;this.h=a;a.defaultPrevented&&D.j.g.call(this)}};n(D,A);var C={2:\"touch\",3:\"pen\",4:\"mouse\"};D.prototype.g=function(){D.j.g.call(this);var a=this.h;a.preventDefault?a.preventDefault():a.returnValue=!1};var E=\"closure_listenable_\"+(1E6*Math.random()|0);var F=0;var G=function(a,b,c,d,e){this.listener=a;this.proxy=null;this.src=b;this.type=c;this.capture=!!d;this.h=e;this.key=++F;this.g=this.i=!1},H=function(a){a.g=!0;a.listener=null;a.proxy=null;a.src=null;a.h=null};var I=function(a){this.src=a;this.g={};this.h=0};I.prototype.add=function(a,b,c,d,e){var f=a.toString();a=this.g[f];a||(a=this.g[f]=[],this.h++);var g;a:{for(g=0;g<a.length;++g){var h=a[g];if(!h.g&&h.listener==b&&h.capture==!!d&&h.h==e)break a}g=-1}-1<g?(b=a[g],c||(b.i=!1)):(b=new G(b,this.src,f,!!d,e),b.i=c,a.push(b));return b};var J=\"closure_lm_\"+(1E6*Math.random()|0),K={},L=0,N=function(a,b,c,d,e){if(d&&d.once)return M(a,b,c,d,e);if(Array.isArray(b)){for(var f=0;f<b.length;f++)N(a,b[f],c,d,e);return null}c=O(c);return a&&a[E]?a.g(b,c,m(d)?!!d.capture:!!d,e):P(a,b,c,!1,d,e)},P=function(a,b,c,d,e,f){if(!b)throw Error(\"a\");var g=m(e)?!!e.capture:!!e,h=Q(a);h||(a[J]=h=new I(a));c=h.add(b,c,d,g,f);if(c.proxy)return c;d=R();c.proxy=d;d.src=a;d.listener=c;if(a.addEventListener)B||(e=g),void 0===e&&(e=!1),a.addEventListener(b.toString(),d,e);else if(a.attachEvent)a.attachEvent(S(b.toString()),d);else if(a.addListener&&a.removeListener)a.addListener(d);else throw Error(\"b\");L++;return c},R=function(){var a=T,b=function(c){return a.call(b.src,b.listener,c)};return b},M=function(a,b,c,d,e){if(Array.isArray(b)){for(var f=0;f<b.length;f++)M(a,b[f],c,d,e);return null}c=O(c);return a&&a[E]?a.h(b,c,m(d)?!!d.capture:!!d,e):P(a,b,c,!0,d,e)},U=function(a){if(\"number\"!==typeof a&&a&&!a.g){var b=a.src;if(b&&b[E])b.o(a);else{var c=a.type,d=a.proxy;b.removeEventListener?b.removeEventListener(c,d,a.capture):b.detachEvent?b.detachEvent(S(c),d):b.addListener&&b.removeListener&&b.removeListener(d);L--;if(c=Q(b)){d=a.type;if(d in c.g){var e=c.g[d],f=p(e,a),g;(g=0<=f)&&Array.prototype.splice.call(e,f,1);g&&(H(a),0==c.g[d].length&&(delete c.g[d],c.h--))}0==c.h&&(c.src=null,b[J]=null)}else H(a)}}},S=function(a){return a in K?K[a]:K[a]=\"on\"+a},T=function(a,b){if(a.g)a=!0;else{b=new D(b,this);var c=a.listener,d=a.h||a.src;a.i&&U(a);a=c.call(d,b)}return a},Q=function(a){a=a[J];return a instanceof I?a:null},V=\"__closure_events_fn_\"+(1E9*Math.random()>>>0),O=function(a){if(\"function\"===typeof a)return a;a[V]||(a[V]=function(b){return a.handleEvent(b)});return a[V]};var v,u=document.documentElement,W;function X(){U(W);W=M(u,\"mousedown\",function(){w();Y()},{capture:!0})}function Y(){U(W);W=N(u,\"keydown\",function(a){if(9===a.keyCode){a=u;var b=v;if(a.classList)a.classList.add(b);else if(!t(a,b)){var c=q(a);r(a,c+(0<c.length?\" \"+b:b))}X()}})};v=\"zAoYTe\";Y();}).call(this);(function(){var c=500;(function(){\n",
      "window.screen&&window.screen.width<=c&&window.screen.height<=c&&document.getElementById(\"hdr\").classList.add(\"sml\");}).call(this);})();</script><div class=\"cOl4Id\"><a href=\"/?sa=X&amp;ved=0ahUKEwiygKHwm8H2AhVFKn0KHV6xBDgQOwgC\"><span class=\"V6gwVd\">G</span><span class=\"iWkuvd\">o</span><span class=\"cDrQ7\">o</span><span class=\"V6gwVd\">g</span><span class=\"ntlR9\">l</span><span class=\"iWkuvd tJ3Myc\">e</span></a></div><div class=\"bz1lBb\"><form class=\"Pg70bf\" id=\"sf\"><a class=\"l\" href=\"/?output=search&amp;ie=UTF-8&amp;sa=X&amp;ved=0ahUKEwiygKHwm8H2AhVFKn0KHV6xBDgQPAgE\"><span class=\"V6gwVd\">G</span><span class=\"iWkuvd\">o</span><span class=\"cDrQ7\">o</span><span class=\"V6gwVd\">g</span><span class=\"ntlR9\">l</span><span class=\"iWkuvd tJ3Myc\">e</span></a><input name=\"ie\" type=\"hidden\" value=\"ISO-8859-1\"/><div class=\"H0PQec\"><div class=\"sbc esbc\"><input autocapitalize=\"none\" autocomplete=\"off\" class=\"noHIxc\" name=\"q\" spellcheck=\"false\" type=\"text\" value=\"geeksforgeeks\"/><input name=\"oq\" type=\"hidden\"/><input name=\"aqs\" type=\"hidden\"/><div class=\"x\">×</div><div class=\"sc\"></div></div></div><button id=\"qdClwb\" type=\"submit\"></button></form></div><noscript><meta content=\"0;url=/search?q=geeksforgeeks&amp;ie=UTF-8&amp;gbv=1&amp;sei=degsYvLxE8XU9APe4pLAAw\" http-equiv=\"refresh\"/><style>table,div,span,p{display:none}</style><div style=\"display:block\">Please click <a href=\"/search?q=geeksforgeeks&amp;ie=UTF-8&amp;gbv=1&amp;sei=degsYvLxE8XU9APe4pLAAw\">here</a> if you are not redirected within a few seconds.</div></noscript></header><div id=\"main\"><div><div class=\"KP7LCb\"> <div class=\"bRsWnc\"> <div class=\"N6RWV\"> <div class=\"Pg70bf Uv67qb\"> <span class=\"OXXup\">All</span><a class=\"eZt8xd\" href=\"/search?q=geeksforgeeks&amp;ie=UTF-8&amp;source=lnms&amp;tbm=bks&amp;sa=X&amp;ved=0ahUKEwiygKHwm8H2AhVFKn0KHV6xBDgQ_AUICCgB\">Books</a><a class=\"eZt8xd\" href=\"/search?q=geeksforgeeks&amp;ie=UTF-8&amp;source=lnms&amp;tbm=isch&amp;sa=X&amp;ved=0ahUKEwiygKHwm8H2AhVFKn0KHV6xBDgQ_AUICSgC\">Images</a><a class=\"eZt8xd\" href=\"/search?q=geeksforgeeks&amp;ie=UTF-8&amp;source=lnms&amp;tbm=vid&amp;sa=X&amp;ved=0ahUKEwiygKHwm8H2AhVFKn0KHV6xBDgQ_AUICigD\">Videos</a> <a href=\"/search?q=geeksforgeeks&amp;ie=UTF-8&amp;source=lnms&amp;tbm=nws&amp;sa=X&amp;ved=0ahUKEwiygKHwm8H2AhVFKn0KHV6xBDgQ_AUICygE\">News</a> <div class=\"FElbsf\"><a href=\"/advanced_search\" id=\"st-toggle\" role=\"button\" style=\"white-space:nowrap\">Search tools</a></div> </div> </div> </div> </div><div class=\"Pg70bf wEsjbd ZINbbc xpd O9g5cc uUPGi\" id=\"st-card\" style=\"display:none\"><style>.wEsjbd{background-color:#fff;height:44px;white-space:nowrap}.coPU8c{height:60px;overflow-scrolling:touch;overflow-x:auto;overflow-y:hidden}.Xj2aue{height:44px;overflow:hidden}.RnNGze{margin:11px 16px}.wEsjbd div,.wEsjbd a,.wEsjbd li{outline-width:0;outline:none}</style><div class=\"Xj2aue\"><div class=\"coPU8c\"><div class=\"RnNGze\"><style>.PA9J5{display:inline-block}.RXaOfd{display:inline-block;height:22px;position:relative;padding-top:0;padding-bottom:0;padding-right:16px;padding-left:0;line-height:22px;cursor:pointer;text-transform:uppercase;font-size:12px;color:#70757a}.sa1toc{display:none;position:absolute;background:#fff;border:1px solid #d6d6d6;box-shadow:0 2px 4px rgba(0,0,0,0.3);margin:0;white-space:nowrap;z-index:103;line-height:17px;padding-top:5px;padding-bottom:5px;padding-left:0}.PA9J5:hover .sa1toc{display:block}.mGSy8d a:active,.RXaOfd:active{color:#4285f4}</style><div class=\"PA9J5\"><div class=\"RXaOfd\" role=\"button\" tabindex=\"0\"><style>.TWMOUc{display:inline-block;padding-right:14px;white-space:nowrap}.vQYuGf{font-weight:bold}.OmTIzf{border-color:#909090 transparent;border-style:solid;border-width:4px 4px 0 4px;width:0;height:0;margin-left:-10px;top:50%;margin-top:-2px;position:absolute}.RXaOfd:active .OmTIzf{border-color:#4285f4 transparent}</style><div class=\"TWMOUc\">Any time</div><span class=\"OmTIzf\"></span></div><ul class=\"sa1toc ozatM\"><style>.ozatM{font-size:12px;text-transform:uppercase}.ozatM .yNFsl,.ozatM li{list-style-type:none;list-style-position:outside;list-style-image:none}.yNFsl.SkUj4c,.yNFsl a{color:rgba(0,0,0,0.54);text-decoration:none;padding:6px 44px 6px 14px;line-height:17px;display:block}.SkUj4c{background-image:url(//ssl.gstatic.com/ui/v1/menu/checkmark2.png);background-position:right center;background-repeat:no-repeat}.SkUj4c:active{background-color:#f8f9fa}</style><li class=\"yNFsl SkUj4c\">Any time</li><li class=\"yNFsl\"><a href=\"/search?q=geeksforgeeks&amp;ie=UTF-8&amp;source=lnt&amp;tbs=qdr:h&amp;sa=X&amp;ved=0ahUKEwiygKHwm8H2AhVFKn0KHV6xBDgQpwUIDQ\">Past hour</a></li><li class=\"yNFsl\"><a href=\"/search?q=geeksforgeeks&amp;ie=UTF-8&amp;source=lnt&amp;tbs=qdr:d&amp;sa=X&amp;ved=0ahUKEwiygKHwm8H2AhVFKn0KHV6xBDgQpwUIDg\">Past 24 hours</a></li><li class=\"yNFsl\"><a href=\"/search?q=geeksforgeeks&amp;ie=UTF-8&amp;source=lnt&amp;tbs=qdr:w&amp;sa=X&amp;ved=0ahUKEwiygKHwm8H2AhVFKn0KHV6xBDgQpwUIDw\">Past week</a></li><li class=\"yNFsl\"><a href=\"/search?q=geeksforgeeks&amp;ie=UTF-8&amp;source=lnt&amp;tbs=qdr:m&amp;sa=X&amp;ved=0ahUKEwiygKHwm8H2AhVFKn0KHV6xBDgQpwUIEA\">Past month</a></li><li class=\"yNFsl\"><a href=\"/search?q=geeksforgeeks&amp;ie=UTF-8&amp;source=lnt&amp;tbs=qdr:y&amp;sa=X&amp;ved=0ahUKEwiygKHwm8H2AhVFKn0KHV6xBDgQpwUIEQ\">Past year</a></li></ul></div><div class=\"PA9J5\"><div class=\"RXaOfd\" role=\"button\" tabindex=\"0\"><div class=\"TWMOUc\">All results</div><span class=\"OmTIzf\"></span></div><ul class=\"sa1toc ozatM\"><li class=\"yNFsl SkUj4c\">All results</li><li class=\"yNFsl\"><a href=\"/search?q=geeksforgeeks&amp;ie=UTF-8&amp;source=lnt&amp;tbs=li:1&amp;sa=X&amp;ved=0ahUKEwiygKHwm8H2AhVFKn0KHV6xBDgQpwUIEw\">Verbatim</a></li></ul></div></div></div></div><script nonce=\"h6OBS9ZoR0LInteKziY5gw==\">(function(){\n",
      "var a=document.getElementById(\"st-toggle\"),b=document.getElementById(\"st-card\");a&&b&&a.addEventListener(\"click\",function(c){b.style.display=b.style.display?\"\":\"none\";c.preventDefault()},!1);}).call(this);</script></div></div><style>.ZINbbc{background-color:#fff;margin-bottom:30px;box-shadow:0 0 0 1px #dfe1e5;border-radius:8px}.uUPGi{font-size:14px;line-height:22px;}.O9g5cc>*:first-child{border-top-left-radius:8px;border-top-right-radius:8px}.O9g5cc>*:last-child{border-bottom-left-radius:8px;border-bottom-right-radius:8px}.O9g5cc>.qxDOhb>*:first-child{border-top-left-radius:8px;border-top-right-radius:8px}.O9g5cc>.qxDOhb>*:last-child{border-bottom-left-radius:8px;border-bottom-right-radius:8px}.luh4tb{background:transparent !important;box-shadow:none !important;border:none !important}.ZINbbc.luh4tb{margin-top:-12px;margin-bottom:18px}.rl7ilb{display:block;clear:both}.egMi0{margin-bottom:-22px}.kCrYT{padding:12px 16px 12px}a.fdYsqf{color:#4b11a8}.l97dzf{font-weight:400}.zBAuLc{line-height:normal;margin:0;padding:0}.BNeawe{white-space:pre-line;word-wrap:break-word}.vvjwJb{color:#1a0dab;font-size:20px;line-height:26px}a:visited .vvjwJb,.vvjwJb a:visited{color:#4b11a8}.vvjwJb.HrGdeb{color:#fff}a:visited .vvjwJb.HrGdeb,.vvjwJb.HrGdeb a:visited{color:rgba(255,255,255,.70)}.UPmit{font-size:14px;line-height:22px}.UPmit.HrGdeb{color:rgba(255,255,255,.70)}.UPmit.AP7Wnd{color:#0d652d}.Ey4n2{padding-bottom:12px}.s3v9rd{font-size:14px;line-height:22px}.s3v9rd.HrGdeb{color:#fff}.s3v9rd.AP7Wnd{color:#202124}.yRG22b{padding-left:48px;margin:0}.MSiauf{padding-bottom:8px}.XLloXe{color:#1a0dab;font-size:14px;line-height:20px}a:visited .XLloXe,.XLloXe a:visited{color:#4b11a8}.XLloXe.HrGdeb{color:#fff}a:visited .XLloXe.HrGdeb,.XLloXe.HrGdeb a:visited{color:rgba(255,255,255,.70)}.mEUgP{font-weight:bold;font-size:16px;color:#000;margin:0;padding:12px 16px 12px}.atOwb{font-weight:bold}.x54gtf{height:1px;background-color:#dfe1e5;margin:0 16px}.Q0HXG{height:1px;background-color:#dfe1e5}.C7GS5b{margin-left:12px;display:table-cell;vertical-align:middle}.rkGIWe{padding:14px}.xpc .hwc,.xpx .hwx{display:none}.iIWm4b{box-sizing:border-box;min-height:48px}.fLtXsc{padding:14px;position:relative}.NtmAdb{width:40px;height:40px;overflow:hidden;margin-top:-10px;margin-bottom:-16px;margin-right:8px;border-radius:4px}.xpc .NtmAdb{display:inline-block}.xpx .NtmAdb{display:none}.Lt3Tzc{display:inline-block;padding-right:26px}.Lym8W{width:14px;height:20px;position:relative;margin:0 auto}.xCgLUe{position:absolute;right:16px;margin-top:-10px;top:50%}.Lym8W div{position:absolute;border-left:7px solid transparent;border-right:7px solid transparent;width:0;height:0;left:0}.IyYaEd{top:7px;border-top:7px solid #70757a}.ECUHQe{top:4px;border-top:7px solid #fff}.AeQQub{bottom:7px;border-bottom:7px solid #70757a}.YCU7eb{bottom:4px;border-bottom:7px solid #fff}.qxDOhb{border-radius:0}.yStFkb .xpd{border-radius:8px;box-shadow:none;border:1px solid #dadce0;margin-bottom:0}.oTWEpb{padding-top:12px}.n1Qedd{overflow:hidden;text-align:center}.KMAGC{margin:0 auto;display:block}.ho0sdc{margin:0 -50%;display:inline-block}.EDgFbc{color:#1a0dab}a:visited .EDgFbc{color:#4b11a8}.EDgFbc.VyZZLb{color:#fff}a:visited .EDgFbc.VyZZLb{color:rgba(255,255,255,.70)}.P1NWSe{display:table;width:100%;padding-top:16px;padding-bottom:16px;margin-bottom:-12px}.wOMIed{display:table-cell;vertical-align:top}.nkPlDb{vertical-align:middle}.JhFlyf{color:#3c4043;font-size:14px;text-align:center}.VQFmSd{display:block;white-space:pre-line;word-wrap:break-word}.JhFlyf.VQFmSd{line-height:22px}.f4J0H{padding:18px}.zJIOJe{clear:both}.AzGoi{float:left;padding-right:16px}.h1hFNe{display:inline-block;position:relative}.Iaa5if{overflow:hidden;position:relative}.l7d08{align-items:center;display:flex;flex-direction:column;justify-content:space-around}.RJI4s{vertical-align:middle}.Xdlr0d{overflow-x:auto;-webkit-overflow-scrolling:touch;margin:0 -8px;padding:2px 0 16px 24px;margin-top:-2px;transform:translate3d(0,0,0)}.idg8be{display:table;border-collapse:separate;border-spacing:8px 0;margin:0 -8px;padding-right:16px}.BVG0Nb{display:table-cell;vertical-align:top;background-color:#fff;border-radius:8px;box-shadow:0 0 0 1px #dfe1e5;overflow:hidden}.tAd8D{font-size:14px;line-height:20px}.tAd8D.HrGdeb{color:rgba(255,255,255,.70)}.tAd8D.AP7Wnd{color:#70757a}.mHhylf{display:table-cell;vertical-align:middle}.WZ5GJf{align-items:center;padding:0 20px;min-width:112px}.qN9Ked,.DXk5Me{margin:0 auto}.DXk5Me{margin-bottom:12px}.Dk7jOe{display:block;margin:0 auto}.Qi9Fd{background:#fff;border:0;border-radius:999px;display:block;height:56px;justify-content:center;width:56px;z-index:0}.Qi9Fd{box-shadow:0 0 0 1px #dfe1e5,inset 0 0 0 0 rgba(0,0,0,0.10),inset 0 0 0 0 rgba(255,255,255,0.50)}.Qi9Fd:focus{outline:none}.Qi9Fd .hWHuJ{display:block;margin:0 auto}.ji5jpf{text-align:center}.gGQDvd{padding:14px;position:relative}.Q71vJc{display:block;position:relative;width:100%}.kjGX2{position:absolute;left:48px;right:0;vertical-align:bottom;display:inline-block;color:#3c4043}.ieB2Dd{overflow:hidden;margin-top:-10px;margin-bottom:-16px;margin-right:8px;border-radius:4px;display:inline-block;border-radius:50%;padding:10px}.OEaqif{width:20px;height:20px;display:block}.lRVwie{text-overflow:ellipsis;white-space:nowrap;overflow:hidden}.rLshyf,.BmP5tf{padding-top:12px;padding-bottom:12px}.YOx3Ab{padding-left:16px;}.w1C3Le,.BmP5tf,.G5NbBd,.CS4w5b{padding-left:16px;padding-right:16px;}.G5NbBd{padding-bottom:12px}.CS4w5b{padding-top:12px}.nMymef{display:flex}.G5eFlf{flex:1;display:block}.nMymef span{text-align:center}.KwU3F{color:#1a73e8}.GNm3Qb{display:inline-block}.xSQxL{color:#1a73e8;cursor:pointer;display:inline-block}.HDOrGf{line-height:40px}.EYqSq{border-radius:100%;display:inline-block;height:10px;margin:6px 4px 9px 0;vertical-align:middle;width:10px}.dfB0uf{color:#3c4043;font-weight:bold}.TUOsUe{text-align:left}.lxG8Hd.aID8W{background-color:rgba(32,33,36,0.6);opacity:1;visibility:inherit}.qW28Ef.aID8W{background-color:#000;opacity:0.4;visibility:inherit}.m114nf.aID8W{background-color:#202124;opacity:0.7;visibility:inherit}.xq162b.aID8W{background-color:#000;opacity:0.8;visibility:inherit}.Xz5tfb.aID8W{background-color:#f8f9fa;opacity:0.85;visibility:inherit}.Kg0gUe.aID8W{background-color:#202124;opacity:0.6;visibility:inherit}.NJfJb.aID8W{opacity:1}.bErdLd.aID8W{opacity:1;visibility:inherit}.bErdLd.hFCnyd{cursor:pointer}.bErdLd.hFCnyd .NJfJb{cursor:default}.t7xA6{position:fixed;z-index:9997;right:0;bottom:-200px;top:0;left:0;transition:opacity 0.25s;opacity:0;visibility:hidden}.NJfJb{border-radius:8px;border-radius:8px;display:inline-block;z-index:9999;background-color:#fff;opacity:0;white-space:normal;overflow:hidden;box-shadow:0px 5px 26px 0px rgba(0,0,0,0.22),0px 20px 28px 0px rgba(0,0,0,0.3)}.NJfJb.o1VDwe{background-color:transparent;box-shadow:none}.NJfJb.Sr5CLc{position:relative;vertical-align:middle}.NJfJb.ZbLCRc{position:absolute}.NJfJb.mr5vfb{border:1px solid #dadce0;box-shadow:0 2px 4px #dadce0;box-shadow:0 2px 4px #dadce0}.bErdLd{position:fixed;right:0;bottom:0;top:0;left:0;z-index:9998;vertical-align:middle;visibility:hidden;white-space:nowrap;max-height:100%;max-width:100%;overflow-x:hidden;overflow-y:auto}.bErdLd.wwYr3{text-align:center}.bErdLd::after{content:'';display:inline-block;height:100%;vertical-align:middle}.bErdLd{tap-highlight-color:rgba(0,0,0,0.0)}.ls8Qne{height:0;opacity:0;position:absolute;width:0}.OxAxec{visibility:hidden}.QVCmK{overflow:hidden}.llJxV .NJfJb{max-width:100%}.OosGzb{width:376px}.wHYlTd{font-family:Roboto,Helvetica Neue,Arial,sans-serif;font-size:14px;line-height:20px}.yUTMj{font-family:Roboto,Helvetica Neue,Arial,sans-serif;font-weight:400}.v0rrvd{padding-bottom:16px}.zJUuqf{margin-bottom:4px}.AB4Wff{margin-left:16px}.VDgVie{text-align:center}@keyframes g-snackbar-show {from{pointer-events:none;transform:translateY(0)}to{transform:translateY(-100%)}}@keyframes g-snackbar-hide {from{transform:translateY(-100%)}to{transform:translateY(0)}}@keyframes g-snackbar-show-content {from{opacity:0}}@keyframes g-snackbar-hide-content {to{opacity:0}}.tYAdEe,.SaJ9Qe{bottom:0;height:0;position:fixed;z-index:999}.vT5nhd{height:0;position:fixed;z-index:999}.ZtLxGf{box-sizing:border-box;visibility:hidden;display:inline-block}.FEXCIb,.CIKhFd{box-sizing:border-box;visibility:hidden}.lnctfd{animation:g-snackbar-hide 400ms cubic-bezier(.4,0,.2,1) both;animation:g-snackbar-hide 400ms cubic-bezier(.4,0,.2,1) both;visibility:inherit}.ZWC4b{animation:g-snackbar-show 500ms cubic-bezier(.4,0,.2,1) both;animation:g-snackbar-show 500ms cubic-bezier(.4,0,.2,1) both;visibility:inherit}.EA3l1b{background-color:#323232;padding:0 24px}.Xb004{align-items:center;align-items:center;box-align:center;display:box;display:flex;display:flex}.lnctfd .Xb004{animation:g-snackbar-hide-content 350ms cubic-bezier(.4,0,.2,1) both;animation:g-snackbar-hide-content 350ms cubic-bezier(.4,0,.2,1) both}.ZWC4b .Xb004{animation:g-snackbar-show-content 350ms cubic-bezier(.4,0,.2,1) 150ms both;animation:g-snackbar-show-content 350ms cubic-bezier(.4,0,.2,1) 150ms both}.awHmMb.awHmMb{line-height:20px}.awHmMb{box-flex:1;color:#fff;flex:1 1 auto;margin:14px 0;word-break:break-word}.BDp8nf{margin-right:-8px}@media (min-width:569px) and (min-height:569px){.tYAdEe,.SaJ9Qe{text-align:center}.CIKhFd,.FEXCIb{display:inline-block;max-width:568px;min-width:288px;text-align:left}.EA3l1b{border-radius:8px;}.BDp8nf{margin-left:40px}}.z5QvOe .Xb004{display:block;padding:8px 0}.z5QvOe .BDp8nf{margin-left:0}.z5QvOe .BDp8nf g-flat-button{padding-left:0}.tYAdEe,.vT5nhd{left:0;right:0}.hObAcc{margin-left:4px;margin-right:4px}.r2fjmd{margin-bottom:0px;margin-top:0px}.gTewb{padding-left:8px;padding-right:8px}.U8shWc{background-color:transparent;border:none;border-radius:8px;border-radius:8px;box-sizing:border-box;display:inline-block;font-size:14px;font-weight:500;padding-top:6px;padding-bottom:3px;min-width:88px;position:relative;text-decoration:none !important;user-select:none;white-space:nowrap}.U8shWc:disabled,.U8shWc[disabled]:not([disabled=false]){pointer-events:none}.U8shWc.fSXIc{min-width:64px}.U8shWc.hpZDWd{color:#fff}.hpZDWd:focus{background-color:rgba(204,204,204,.15)}.hpZDWd:active{background-color:rgba(204,204,204,.25)}.U8shWc.hpZDWd:disabled,.U8shWc.hpZDWd[disabled]:not([disabled=false]){color:rgba(255,255,255,.30) !important}.aepCxe{padding:14px 0;margin:-14px 0}</style><div><!--SW_C_X--></div><div></div><div><div class=\"ZINbbc luh4tb xpd O9g5cc uUPGi\"><div class=\"egMi0 kCrYT\"><a href=\"/url?q=https://www.geeksforgeeks.org/&amp;sa=U&amp;ved=2ahUKEwiygKHwm8H2AhVFKn0KHV6xBDgQFnoECAIQAg&amp;usg=AOvVaw2YT_UFfsVsLtea7Q7X-Ssc\"><h3 class=\"zBAuLc l97dzf\"><div class=\"BNeawe vvjwJb AP7Wnd\">GeeksforGeeks</div></h3><div class=\"BNeawe UPmit AP7Wnd\">www.geeksforgeeks.org</div></a></div><div class=\"kCrYT\"><div><div class=\"BNeawe s3v9rd AP7Wnd\"><div><div class=\"MSiauf\"><div class=\"BNeawe s3v9rd AP7Wnd\">A Computer Science portal for geeks. It contains well written, well thought and well explained computer science and programming articles, ...</div></div><div><div class=\"MSiauf\"><div class=\"BNeawe s3v9rd AP7Wnd\"><span class=\"BNeawe\"><a href=\"/url?q=https://www.geeksforgeeks.org/c-programming-language/&amp;sa=U&amp;ved=2ahUKEwiygKHwm8H2AhVFKn0KHV6xBDgQjBB6BAgCEAU&amp;usg=AOvVaw13i6iu1kUWnZ5C15yZGGGJ\"><span class=\"XLloXe AP7Wnd\">C Programming Language</span></a></span></div></div><div class=\"MSiauf\"><div class=\"BNeawe s3v9rd AP7Wnd\"><span class=\"BNeawe\"><a href=\"/url?q=https://www.geeksforgeeks.org/data-structures/&amp;sa=U&amp;ved=2ahUKEwiygKHwm8H2AhVFKn0KHV6xBDgQjBB6BAgCEAc&amp;usg=AOvVaw1ve18n48iYdpC_vgcZu9in\"><span class=\"XLloXe AP7Wnd\">Data Structures</span></a></span></div></div><div class=\"MSiauf\"><div class=\"BNeawe s3v9rd AP7Wnd\"><span class=\"BNeawe\"><a href=\"/url?q=https://practice.geeksforgeeks.org/topic-tags/&amp;sa=U&amp;ved=2ahUKEwiygKHwm8H2AhVFKn0KHV6xBDgQjBB6BAgCEAk&amp;usg=AOvVaw0cS_rT_tJBTy89RngD2GWV\"><span class=\"XLloXe AP7Wnd\">Practice</span></a></span></div></div><div class=\"MSiauf\"><div class=\"BNeawe s3v9rd AP7Wnd\"><span class=\"BNeawe\"><a href=\"/url?q=https://ide.geeksforgeeks.org/&amp;sa=U&amp;ved=2ahUKEwiygKHwm8H2AhVFKn0KHV6xBDgQjBB6BAgCEAs&amp;usg=AOvVaw1f59opTvoZpcW6VSKvg4YV\"><span class=\"XLloXe AP7Wnd\">IDE</span></a></span></div></div><div class=\"MSiauf\"><div class=\"BNeawe s3v9rd AP7Wnd\"><span class=\"BNeawe\"><a href=\"/url?q=https://www.geeksforgeeks.org/fundamentals-of-algorithms/&amp;sa=U&amp;ved=2ahUKEwiygKHwm8H2AhVFKn0KHV6xBDgQjBB6BAgCEA0&amp;usg=AOvVaw0kk0qu0lZVitI7gZC6lisv\"><span class=\"XLloXe AP7Wnd\">Algorithms</span></a></span></div></div><div><div class=\"BNeawe s3v9rd AP7Wnd\"><span class=\"BNeawe\"><a href=\"/url?q=https://practice.geeksforgeeks.org/courses&amp;sa=U&amp;ved=2ahUKEwiygKHwm8H2AhVFKn0KHV6xBDgQjBB6BAgCEA8&amp;usg=AOvVaw1KDnyW8nrhy6H6h34-tI29\"><span class=\"XLloXe AP7Wnd\">Courses</span></a></span></div></div></div></div></div></div></div></div></div><div><div class=\"ZINbbc xpd O9g5cc uUPGi\"><div></div><div class=\"mEUgP\"><span><div class=\"BNeawe\"><span class=\"atOwb UMOHqf\">People also ask</span></div></span></div><div class=\"x54gtf\"></div><div><div class=\"xpc\"><div class=\"duf-h\"><div aria-expanded=\"false\" class=\"fLtXsc iIWm4b\" data-ved=\"2ahUKEwiygKHwm8H2AhVFKn0KHV6xBDgQuk56BAgEEAI\" id=\"tsuid1\" role=\"button\" tabindex=\"0\"><div class=\"Lt3Tzc\">Who owns GeeksforGeeks?</div><div class=\"Lym8W xCgLUe\"><div class=\"AeQQub hwc\"></div><div class=\"YCU7eb hwc\"></div><div class=\"IyYaEd hwx\"></div><div class=\"ECUHQe hwx\"></div></div></div></div><div class=\"qxDOhb\" id=\"accdef_1\"></div></div></div><div class=\"x54gtf\"></div><div><div class=\"xpc\"><div class=\"duf-h\"><div aria-expanded=\"false\" class=\"fLtXsc iIWm4b\" data-ved=\"2ahUKEwiygKHwm8H2AhVFKn0KHV6xBDgQuk56BAgEEAk\" id=\"tsuid2\" role=\"button\" tabindex=\"0\"><div class=\"Lt3Tzc\">What is the use of GeeksforGeeks?</div><div class=\"Lym8W xCgLUe\"><div class=\"AeQQub hwc\"></div><div class=\"YCU7eb hwc\"></div><div class=\"IyYaEd hwx\"></div><div class=\"ECUHQe hwx\"></div></div></div></div><div class=\"qxDOhb\" id=\"accdef_3\"></div></div></div><div class=\"x54gtf\"></div><div><div class=\"xpc\"><div class=\"duf-h\"><div aria-expanded=\"false\" class=\"fLtXsc iIWm4b\" data-ved=\"2ahUKEwiygKHwm8H2AhVFKn0KHV6xBDgQuk56BAgEEBA\" id=\"tsuid3\" role=\"button\" tabindex=\"0\"><div class=\"Lt3Tzc\">Are GeeksforGeeks course free?</div><div class=\"Lym8W xCgLUe\"><div class=\"AeQQub hwc\"></div><div class=\"YCU7eb hwc\"></div><div class=\"IyYaEd hwx\"></div><div class=\"ECUHQe hwx\"></div></div></div></div><div class=\"qxDOhb\" id=\"accdef_5\"></div></div></div><div class=\"x54gtf\"></div><div><div class=\"xpc\"><div class=\"duf-h\"><div aria-expanded=\"false\" class=\"fLtXsc iIWm4b\" data-ved=\"2ahUKEwiygKHwm8H2AhVFKn0KHV6xBDgQuk56BAgEEBc\" id=\"tsuid4\" role=\"button\" tabindex=\"0\"><div class=\"Lt3Tzc\">Is GeeksforGeeks a reliable source?</div><div class=\"Lym8W xCgLUe\"><div class=\"AeQQub hwc\"></div><div class=\"YCU7eb hwc\"></div><div class=\"IyYaEd hwx\"></div><div class=\"ECUHQe hwx\"></div></div></div></div><div class=\"qxDOhb\" id=\"accdef_7\"></div></div></div></div></div><div><div class=\"ZINbbc xpd O9g5cc uUPGi\"><div><a href=\"/url?q=https://twitter.com/geeksforgeeks%3Fref_src%3Dtwsrc%255Egoogle%257Ctwcamp%255Eserp%257Ctwgr%255Eauthor&amp;sa=U&amp;ved=2ahUKEwiygKHwm8H2AhVFKn0KHV6xBDgQ6F56BAgIEAI&amp;usg=AOvVaw11OJu6_S0x8tLQpYuRT-HQ\"><div class=\"kCrYT\"><div class=\"AzGoi l7d08\" style=\"width:40px;height:40px\"><img alt=\"\" class=\"h1hFNe\" data-deferred=\"1\" id=\"dimg_15\" src=\"data:image/gif;base64,R0lGODlhAQABAIAAAP///////yH5BAEKAAEALAAAAAABAAEAAAICTAEAOw==\" style=\"max-width:40px;max-height:40px\"/></div><div><div class=\"BNeawe vvjwJb AP7Wnd\">GeeksforGeeks</div><div class=\"BNeawe UPmit AP7Wnd\">Twitter › geeksforgeeks</div></div><div class=\"zJIOJe\"></div></div></a></div><div><div><div><div class=\"Xdlr0d\"><div class=\"idg8be\"><a class=\"BVG0Nb\" href=\"/url?q=https://twitter.com/geeksforgeeks/status/1502568126424096768%3Fref_src%3Dtwsrc%255Egoogle%257Ctwcamp%255Eserp%257Ctwgr%255Etweet&amp;sa=U&amp;ved=2ahUKEwiygKHwm8H2AhVFKn0KHV6xBDgQglR6BAgIEAQ&amp;usg=AOvVaw0v9ftIGBnQLIA7VFsDvuDg\"><div><div style=\"width:232px\"><div class=\"l7d08\" style=\"width:232px;height:128px\"><img alt=\"Media posted by GeeksforGeeks\" class=\"h1hFNe\" data-deferred=\"1\" id=\"dimg_19\" src=\"data:image/gif;base64,R0lGODlhAQABAIAAAP///////yH5BAEKAAEALAAAAAABAAEAAAICTAEAOw==\" style=\"max-width:232px;max-height:128px\"/></div><div class=\"RWuggc kCrYT\"><div></div><div><div class=\"BNeawe tAd8D AP7Wnd\">Twitter • 10 hours ago</div></div></div></div></div></a><a class=\"BVG0Nb\" href=\"/url?q=https://twitter.com/geeksforgeeks/status/1502513149022388225%3Fref_src%3Dtwsrc%255Egoogle%257Ctwcamp%255Eserp%257Ctwgr%255Etweet&amp;sa=U&amp;ved=2ahUKEwiygKHwm8H2AhVFKn0KHV6xBDgQglR6BAgIEAY&amp;usg=AOvVaw0lnYD4NtQEHz6rWAWZk7t-\"><div><div style=\"width:232px\"><div class=\"l7d08\" style=\"width:232px;height:128px\"><img alt=\"Media posted by GeeksforGeeks\" class=\"h1hFNe\" data-deferred=\"1\" id=\"dimg_21\" src=\"data:image/gif;base64,R0lGODlhAQABAIAAAP///////yH5BAEKAAEALAAAAAABAAEAAAICTAEAOw==\" style=\"max-width:232px;max-height:128px\"/></div><div class=\"RWuggc kCrYT\"><div><div class=\"BNeawe s3v9rd AP7Wnd\">“Consider me a guide, to you, to everyone who seeks answers”   #SaturdayThoughts #LearnToCode #codinglife </div></div><div><div class=\"BNeawe tAd8D AP7Wnd\">Twitter • 13 hours ago</div></div></div></div></div></a><a class=\"BVG0Nb\" href=\"/url?q=https://twitter.com/geeksforgeeks/status/1502259753862721537%3Fref_src%3Dtwsrc%255Egoogle%257Ctwcamp%255Eserp%257Ctwgr%255Etweet&amp;sa=U&amp;ved=2ahUKEwiygKHwm8H2AhVFKn0KHV6xBDgQglR6BAgIEAg&amp;usg=AOvVaw0Rv9DfW4VXtpTqb5ioxAeG\"><div><div style=\"width:232px\"><div class=\"l7d08\" style=\"width:232px;height:128px\"><img alt=\"Media posted by GeeksforGeeks\" class=\"h1hFNe\" data-deferred=\"1\" id=\"dimg_23\" src=\"data:image/gif;base64,R0lGODlhAQABAIAAAP///////yH5BAEKAAEALAAAAAABAAEAAAICTAEAOw==\" style=\"max-width:232px;max-height:128px\"/></div><div class=\"RWuggc kCrYT\"><div><div class=\"BNeawe s3v9rd AP7Wnd\">A list of things I am planning to do on weekend. </div></div><div><div class=\"BNeawe tAd8D AP7Wnd\">Twitter • 1 day ago</div></div></div></div></div></a><a class=\"BVG0Nb\" href=\"/url?q=https://twitter.com/geeksforgeeks/status/1502185578686648320%3Fref_src%3Dtwsrc%255Egoogle%257Ctwcamp%255Eserp%257Ctwgr%255Etweet&amp;sa=U&amp;ved=2ahUKEwiygKHwm8H2AhVFKn0KHV6xBDgQglR6BAgIEAo&amp;usg=AOvVaw0pEhmyk_kzzMiohoHAO673\"><div><div style=\"width:232px\"><div class=\"l7d08\" style=\"width:232px;height:128px\"><img alt=\"Media posted by GeeksforGeeks\" class=\"h1hFNe\" data-deferred=\"1\" id=\"dimg_25\" src=\"data:image/gif;base64,R0lGODlhAQABAIAAAP///////yH5BAEKAAEALAAAAAABAAEAAAICTAEAOw==\" style=\"max-width:232px;max-height:128px\"/></div><div class=\"RWuggc kCrYT\"><div><div class=\"BNeawe s3v9rd AP7Wnd\">Hey web devs!  Here's a list of few cool projects on #react that you can work on this weekend- www.geeksforgeeks.org/7-b…  #ReactJS #webdev #weekendvibes #learntocode </div></div><div><div class=\"BNeawe tAd8D AP7Wnd\">Twitter • 1 day ago</div></div></div></div></div></a><a class=\"BVG0Nb\" href=\"/url?q=https://twitter.com/geeksforgeeks/status/1501952431432732678%3Fref_src%3Dtwsrc%255Egoogle%257Ctwcamp%255Eserp%257Ctwgr%255Etweet&amp;sa=U&amp;ved=2ahUKEwiygKHwm8H2AhVFKn0KHV6xBDgQglR6BAgIEAw&amp;usg=AOvVaw3fGkBxhJuQkB_UpcP1lX4t\"><div><div style=\"width:232px\"><div class=\"RWuggc kCrYT\"><div><div class=\"BNeawe s3v9rd AP7Wnd\">“I work in the dark” “I work all alone” “I don’t have a girlfriend”  Who am I?   #TheBatman #TheBatmanMovie #codinglife</div></div><div><div class=\"BNeawe tAd8D AP7Wnd\">Twitter • 2 days ago</div></div></div></div></div></a><div class=\"mHhylf\"><div class=\"WZ5GJf\"><a class=\"qN9Ked\" href=\"/url?q=https://twitter.com/geeksforgeeks%3Fref_src%3Dtwsrc%255Egoogle%257Ctwcamp%255Eserp%257Ctwgr%255Eauthor&amp;sa=U&amp;ved=2ahUKEwiygKHwm8H2AhVFKn0KHV6xBDgQp_gBegQICBAN&amp;usg=AOvVaw2mG6Xjac3n5sSUFHzNVlOT\"><button class=\"DXk5Me Qi9Fd\" tabindex=\"-1\"><span class=\"hWHuJ\"><img alt=\"\" class=\"Dk7jOe\" data-deferred=\"1\" id=\"dimg_27\" src=\"data:image/gif;base64,R0lGODlhAQABAIAAAP///////yH5BAEKAAEALAAAAAABAAEAAAICTAEAOw==\" style=\"max-width:24px;max-height:24px\"/></span></button><div class=\"BNeawe ji5jpf tAd8D AP7Wnd\">View on Twitter</div></a></div></div></div></div></div></div></div></div></div><div><div class=\"ZINbbc luh4tb xpd O9g5cc uUPGi\"><div class=\"egMi0 kCrYT\"><a href=\"/url?q=https://www.youtube.com/channel/UC0RhatS1pyxInC00YKjjBqQ&amp;sa=U&amp;ved=2ahUKEwiygKHwm8H2AhVFKn0KHV6xBDgQFnoECAMQAg&amp;usg=AOvVaw0j6MRM7tZhqF-wBGuTgfUZ\"><h3 class=\"zBAuLc l97dzf\"><div class=\"BNeawe vvjwJb AP7Wnd\">GeeksforGeeks - YouTube</div></h3><div class=\"BNeawe UPmit AP7Wnd\">www.youtube.com › channel</div></a></div><div class=\"kCrYT\"><div><div class=\"BNeawe s3v9rd AP7Wnd\"><div><div><div class=\"BNeawe s3v9rd AP7Wnd\">Welcome to the official channel of GeeksforGeeks!On our channel you will find hundreds of videos that will provide you with the insight and the knowledge to ...</div></div></div></div></div></div></div></div><div><div class=\"ZINbbc luh4tb xpd O9g5cc uUPGi\"><div class=\"egMi0 kCrYT\"><a href=\"/url?q=https://in.linkedin.com/company/geeksforgeeks&amp;sa=U&amp;ved=2ahUKEwiygKHwm8H2AhVFKn0KHV6xBDgQFnoECAAQAg&amp;usg=AOvVaw26TsI7-1qBi4GlOs1X8r_M\"><h3 class=\"zBAuLc l97dzf\"><div class=\"BNeawe vvjwJb AP7Wnd\">GeeksforGeeks | LinkedIn</div></h3><div class=\"BNeawe UPmit AP7Wnd\">in.linkedin.com › company › geeksforgeeks</div></a></div><div class=\"kCrYT\"><div><div class=\"BNeawe s3v9rd AP7Wnd\"><div><div><div class=\"BNeawe s3v9rd AP7Wnd\">With the idea of imparting programming knowledge, Mr. Sandeep Jain, an IIT Roorkee alumnus started a dream, GeeksforGeeks. Whether programming excites you ...</div></div></div></div></div></div></div></div><div><div class=\"ZINbbc luh4tb xpd O9g5cc uUPGi\"><div class=\"egMi0 kCrYT\"><a href=\"/url?q=https://www.linkedin.com/company/geeksforgeeks&amp;sa=U&amp;ved=2ahUKEwiygKHwm8H2AhVFKn0KHV6xBDgQFnoECAEQAg&amp;usg=AOvVaw14PlEr1qJAi46dzvOKKOvk\"><h3 class=\"zBAuLc l97dzf\"><div class=\"BNeawe vvjwJb AP7Wnd\">GeeksforGeeks | LinkedIn</div></h3><div class=\"BNeawe UPmit AP7Wnd\">www.linkedin.com › company › geeksforgeeks</div></a></div><div class=\"kCrYT\"><div><div class=\"BNeawe s3v9rd AP7Wnd\"><div><div><div class=\"BNeawe s3v9rd AP7Wnd\">Sandeep Jain, an IIT Roorkee alumnus started a dream, GeeksforGeeks. Whether programming excites you or you feel stifled, wondering how to prepare for interview ...</div></div></div></div></div></div></div></div><div><div class=\"ZINbbc luh4tb xpd O9g5cc uUPGi\"><div class=\"egMi0 kCrYT\"><a href=\"/url?q=https://www.facebook.com/geeksforgeeks.org/&amp;sa=U&amp;ved=2ahUKEwiygKHwm8H2AhVFKn0KHV6xBDgQFnoECAcQAg&amp;usg=AOvVaw1zsS4EjTUsxmabSPaXziz4\"><h3 class=\"zBAuLc l97dzf\"><div class=\"BNeawe vvjwJb AP7Wnd\">GeeksforGeeks - Home | Facebook</div></h3><div class=\"BNeawe UPmit AP7Wnd\">www.facebook.com › geeksforgeeks</div></a></div><div class=\"kCrYT\"><div><div class=\"BNeawe s3v9rd AP7Wnd\"><div><div><div class=\"BNeawe s3v9rd AP7Wnd\">OpenCV is a powerful library for computer vision, machine learning, and image processing. As it comes with a trainer as well as a detector, you can train your ...</div></div></div></div></div></div></div></div><div><div class=\"ZINbbc luh4tb xpd O9g5cc uUPGi\"><div class=\"egMi0 kCrYT\"><a href=\"/url?q=https://www.instagram.com/geeks_for_geeks/%3Fhl%3Den&amp;sa=U&amp;ved=2ahUKEwiygKHwm8H2AhVFKn0KHV6xBDgQFnoECAYQAg&amp;usg=AOvVaw3Npl86JKcMknYwTlQyvN7P\"><h3 class=\"zBAuLc l97dzf\"><div class=\"BNeawe vvjwJb AP7Wnd\">GeeksforGeeks's (@geeks_for_geeks) Instagram profile • 1,403 ...</div></h3><div class=\"BNeawe UPmit AP7Wnd\">www.instagram.com › geeks_for_geeks</div></a></div><div class=\"kCrYT\"><div><div class=\"BNeawe s3v9rd AP7Wnd\"><div><div><div class=\"BNeawe s3v9rd AP7Wnd\">223k Followers, 2 Following, 1403 Posts - See Instagram photos and videos from GeeksforGeeks (@geeks_for_geeks)</div></div></div></div></div></div></div></div><div><div class=\"ZINbbc xpd O9g5cc uUPGi\"><div></div><div class=\"mEUgP\"><span><div class=\"BNeawe\">Related searches</div></span></div><div class=\"x54gtf\"></div><div><div class=\"gGQDvd iIWm4b\"><a class=\"Q71vJc\" href=\"/search?ie=UTF-8&amp;q=Geeksforgeeks+Python&amp;sa=X&amp;ved=2ahUKEwiygKHwm8H2AhVFKn0KHV6xBDgQ1QJ6BAgFEAI\"><accordion-entry-search-icon><span class=\"ieB2Dd\"><img alt=\"\" class=\"OEaqif\" data-deferred=\"1\" id=\"dimg_1\" src=\"data:image/gif;base64,R0lGODlhAQABAIAAAP///////yH5BAEKAAEALAAAAAABAAEAAAICTAEAOw==\" style=\"max-width:20px;max-height:20px\"/></span></accordion-entry-search-icon><div class=\"kjGX2\"><span><div class=\"BNeawe s3v9rd AP7Wnd lRVwie\">Geeksforgeeks Python</div></span></div></a></div></div><div class=\"x54gtf\"></div><div><div class=\"gGQDvd iIWm4b\"><a class=\"Q71vJc\" href=\"/search?ie=UTF-8&amp;q=Geeksforgeeks+Java&amp;sa=X&amp;ved=2ahUKEwiygKHwm8H2AhVFKn0KHV6xBDgQ1QJ6BAgFEAQ\"><accordion-entry-search-icon><span class=\"ieB2Dd\"><img alt=\"\" class=\"OEaqif\" data-deferred=\"1\" id=\"dimg_3\" src=\"data:image/gif;base64,R0lGODlhAQABAIAAAP///////yH5BAEKAAEALAAAAAABAAEAAAICTAEAOw==\" style=\"max-width:20px;max-height:20px\"/></span></accordion-entry-search-icon><div class=\"kjGX2\"><span><div class=\"BNeawe s3v9rd AP7Wnd lRVwie\">Geeksforgeeks Java</div></span></div></a></div></div><div class=\"x54gtf\"></div><div><div class=\"gGQDvd iIWm4b\"><a class=\"Q71vJc\" href=\"/search?ie=UTF-8&amp;q=GeeksforGeeks+C%2B%2B&amp;sa=X&amp;ved=2ahUKEwiygKHwm8H2AhVFKn0KHV6xBDgQ1QJ6BAgFEAY\"><accordion-entry-search-icon><span class=\"ieB2Dd\"><img alt=\"\" class=\"OEaqif\" data-deferred=\"1\" id=\"dimg_5\" src=\"data:image/gif;base64,R0lGODlhAQABAIAAAP///////yH5BAEKAAEALAAAAAABAAEAAAICTAEAOw==\" style=\"max-width:20px;max-height:20px\"/></span></accordion-entry-search-icon><div class=\"kjGX2\"><span><div class=\"BNeawe s3v9rd AP7Wnd lRVwie\">GeeksforGeeks C++</div></span></div></a></div></div><div class=\"x54gtf\"></div><div><div class=\"gGQDvd iIWm4b\"><a class=\"Q71vJc\" href=\"/search?ie=UTF-8&amp;q=GeeksforGeeks+Practice&amp;sa=X&amp;ved=2ahUKEwiygKHwm8H2AhVFKn0KHV6xBDgQ1QJ6BAgFEAg\"><accordion-entry-search-icon><span class=\"ieB2Dd\"><img alt=\"\" class=\"OEaqif\" data-deferred=\"1\" id=\"dimg_7\" src=\"data:image/gif;base64,R0lGODlhAQABAIAAAP///////yH5BAEKAAEALAAAAAABAAEAAAICTAEAOw==\" style=\"max-width:20px;max-height:20px\"/></span></accordion-entry-search-icon><div class=\"kjGX2\"><span><div class=\"BNeawe s3v9rd AP7Wnd lRVwie\">GeeksforGeeks Practice</div></span></div></a></div></div><div class=\"x54gtf\"></div><div><div class=\"gGQDvd iIWm4b\"><a class=\"Q71vJc\" href=\"/search?ie=UTF-8&amp;q=GeeksforGeeks+Interview+Questions&amp;sa=X&amp;ved=2ahUKEwiygKHwm8H2AhVFKn0KHV6xBDgQ1QJ6BAgFEAo\"><accordion-entry-search-icon><span class=\"ieB2Dd\"><img alt=\"\" class=\"OEaqif\" data-deferred=\"1\" id=\"dimg_9\" src=\"data:image/gif;base64,R0lGODlhAQABAIAAAP///////yH5BAEKAAEALAAAAAABAAEAAAICTAEAOw==\" style=\"max-width:20px;max-height:20px\"/></span></accordion-entry-search-icon><div class=\"kjGX2\"><span><div class=\"BNeawe s3v9rd AP7Wnd lRVwie\">GeeksforGeeks Interview Questions</div></span></div></a></div></div><div class=\"x54gtf\"></div><div><div class=\"gGQDvd iIWm4b\"><a class=\"Q71vJc\" href=\"/search?ie=UTF-8&amp;q=Geeksforgeeks+SQL&amp;sa=X&amp;ved=2ahUKEwiygKHwm8H2AhVFKn0KHV6xBDgQ1QJ6BAgFEAw\"><accordion-entry-search-icon><span class=\"ieB2Dd\"><img alt=\"\" class=\"OEaqif\" data-deferred=\"1\" id=\"dimg_11\" src=\"data:image/gif;base64,R0lGODlhAQABAIAAAP///////yH5BAEKAAEALAAAAAABAAEAAAICTAEAOw==\" style=\"max-width:20px;max-height:20px\"/></span></accordion-entry-search-icon><div class=\"kjGX2\"><span><div class=\"BNeawe s3v9rd AP7Wnd lRVwie\">Geeksforgeeks SQL</div></span></div></a></div></div><div class=\"x54gtf\"></div><div><div class=\"gGQDvd iIWm4b\"><a class=\"Q71vJc\" href=\"/search?ie=UTF-8&amp;q=Geeksforgeeks+C+Programming&amp;sa=X&amp;ved=2ahUKEwiygKHwm8H2AhVFKn0KHV6xBDgQ1QJ6BAgFEA4\"><accordion-entry-search-icon><span class=\"ieB2Dd\"><img alt=\"\" class=\"OEaqif\" data-deferred=\"1\" id=\"dimg_13\" src=\"data:image/gif;base64,R0lGODlhAQABAIAAAP///////yH5BAEKAAEALAAAAAABAAEAAAICTAEAOw==\" style=\"max-width:20px;max-height:20px\"/></span></accordion-entry-search-icon><div class=\"kjGX2\"><span><div class=\"BNeawe s3v9rd AP7Wnd lRVwie\">Geeksforgeeks C Programming</div></span></div></a></div></div><div class=\"x54gtf\"></div><div><div class=\"gGQDvd iIWm4b\"><a class=\"Q71vJc\" href=\"/search?ie=UTF-8&amp;q=Geeksforgeeks+ide&amp;sa=X&amp;ved=2ahUKEwiygKHwm8H2AhVFKn0KHV6xBDgQ1QJ6BAgFEBA\"><accordion-entry-search-icon><span class=\"ieB2Dd\"><img alt=\"\" class=\"OEaqif\" data-deferred=\"1\" id=\"dimg_17\" src=\"data:image/gif;base64,R0lGODlhAQABAIAAAP///////yH5BAEKAAEALAAAAAABAAEAAAICTAEAOw==\" style=\"max-width:20px;max-height:20px\"/></span></accordion-entry-search-icon><div class=\"kjGX2\"><span><div class=\"BNeawe s3v9rd AP7Wnd lRVwie\">Geeksforgeeks ide</div></span></div></a></div></div></div></div><footer> <div> <div class=\"ZINbbc xpd O9g5cc uUPGi BmP5tf\"><div class=\"nMymef MUxGbd lyLwlc\"><a aria-label=\"Next page\" class=\"nBDE1b G5eFlf\" href=\"/search?q=geeksforgeeks&amp;ie=UTF-8&amp;ei=degsYvLxE8XU9APe4pLAAw&amp;start=10&amp;sa=N\">Next &gt;</a></div></div> </div> <div id=\"EOlPnc\"><div class=\"Srfpq\"><div id=\"tsuid5\" jsaction=\"oEnJg:CEnhyd;gJk92:b6DXXd;gfszqc:BGFS9\" jscontroller=\"qcH9Lc\" jsdata=\"z6bOeb;_;Br1GtE\"></div><span> - </span><a href=\"/url?q=https://support.google.com/websearch%3Fp%3Dws_settings_location%26hl%3Den-IR&amp;sa=U&amp;ved=0ahUKEwiygKHwm8H2AhVFKn0KHV6xBDgQty4IgAE&amp;usg=AOvVaw3ye5AoSlXAGNBpVexBly_N\">Learn more</a></div><div><a href=\"/url?q=https://accounts.google.com/ServiceLogin%3Fcontinue%3Dhttps://www.google.com/search%253Fq%253Dgeeksforgeeks%26hl%3Den&amp;sa=U&amp;ved=0ahUKEwiygKHwm8H2AhVFKn0KHV6xBDgQxs8CCIEB&amp;usg=AOvVaw0UBy1CiRIJL6B0Jn-CZcEM\">Sign in</a></div><div><a class=\"xeDNfc\" href=\"https://www.google.com/preferences?hl=en-IR&amp;fg=1&amp;sa=X&amp;ved=0ahUKEwiygKHwm8H2AhVFKn0KHV6xBDgQ5fUCCIIB\">Settings</a><a class=\"xeDNfc\" href=\"https://policies.google.com/privacy?hl=en-IR&amp;fg=1\">Privacy</a><a class=\"xeDNfc\" href=\"https://policies.google.com/terms?hl=en-IR&amp;fg=1\">Terms</a></div></div> </footer><script nonce=\"h6OBS9ZoR0LInteKziY5gw==\">(function(){var hl='en-IR';(function(){\n",
      "var f=this||self,g=function(a){return a};var h,k=function(){if(void 0===h){var a=null,b=f.trustedTypes;if(b&&b.createPolicy){try{a=b.createPolicy(\"goog#html\",{createHTML:g,createScript:g,createScriptURL:g})}catch(c){f.console&&f.console.error(c.message)}h=a}else h=a}return h};var p=function(a,b){this.h=a===l&&b||\"\";this.g=m},q=function(a){return a instanceof p&&a.constructor===p&&a.g===m?a.h:\"type_error:Const\"},m={},l={};var t=function(a,b){this.g=b===r?a:\"\"};t.prototype.toString=function(){return this.g+\"\"};var u=function(a){return a instanceof t&&a.constructor===t?a.g:\"type_error:TrustedResourceUrl\"},y=function(){var a={},b=q(new p(l,\"/complete/search\"));if(!v.test(b))throw Error(\"a`\"+b);var c=b.replace(w,function(e,d){if(!Object.prototype.hasOwnProperty.call(a,d))throw Error(\"b`\"+d+\"`\"+b+\"`\"+JSON.stringify(a));e=a[d];return e instanceof p?q(e):encodeURIComponent(String(e))});return x(c)},w=/%{(\\w+)}/g,v=RegExp(\"^((https:)?//[0-9a-z.:[\\\\]-]+/|/[^/\\\\\\\\]|[^:/\\\\\\\\%]+/|[^:/\\\\\\\\%]*[?#]|about:blank#)\",\"i\"),z=/^([^?#]*)(\\?[^#]*)?(#[\\s\\S]*)?/,r={},x=function(a){var b=k();a=b?b.createScriptURL(a):a;return new t(a,r)},A=function(a,b,c){if(null==c)return b;if(\"string\"===typeof c)return c?a+encodeURIComponent(c):\"\";for(var e in c)if(Object.prototype.hasOwnProperty.call(c,e)){var d=c[e];d=Array.isArray(d)?d:[d];for(var n=0;n<d.length;n++){var P=d[n];null!=P&&(b||(b=a),b+=(b.length>a.length?\"&\":\"\")+encodeURIComponent(e)+\"=\"+encodeURIComponent(String(P)))}}return b};var B={},C=function(a,b,c){this.g=c===B?a:\"\"};C.prototype.toString=function(){return this.g.toString()};var D=function(a){var b=k();a=b?b.createHTML(a):a;return new C(a,null,B)};\n",
      "function E(a,b){if(void 0!==a.tagName){if(\"script\"===a.tagName.toLowerCase())throw Error(\"c\");if(\"style\"===a.tagName.toLowerCase())throw Error(\"d\");}a.innerHTML=b instanceof C&&b.constructor===C?b.g:\"type_error:SafeHtml\"};var F=document.querySelector(\".l\"),G=document.querySelector(\"#sf\"),H=G.querySelector(\".sbc\"),I=G.querySelector(\"[type=text]\"),J=G.querySelector(\"[type=submit]\"),K=G.querySelector(\".sc\"),L=G.querySelector(\".x\"),M=I.value,N=[],O=-1,Q=M,R,S,T;M||(L&&(L.style.display=\"none\"),U(!1));function U(a){if(H.classList.contains(\"esbc\")){var b=H.classList.contains(\"chsbc\"),c=H.classList.contains(\"rtlsbc\");a&&(K.style.display=\"block\",b?(G.style.borderRadius=\"20px 20px 0 0\",K.style.borderBottom=\"1px solid #DFE1E5\",J.style.borderRadius=c?\"20px 0 0 0\":\"0 20px 0 0\"):H.style.borderRadius=c?\"0 8px 0 0\":\"8px 0 0 0\");a||(K.style.display=\"none\",b?(G.style.borderRadius=\"20px\",K.style.borderBottom=\"none\",J.style.borderRadius=c?\"20px 0 0 20px\":\"0 20px 20px 0\"):H.style.borderRadius=c?\"0 8px 8px 0\":\"8px 0 0 8px\")}}function V(){G.querySelector(\"[name=oq]\").value=Q;G.querySelector(\"[name=aqs]\").value=\"heirloom-srp.\"+(0<=O?O:\"\")+\".\"+(0<N.length?\"0l\"+N.length:\"\")}\n",
      "function W(){R=null;if(S){var a={client:\"heirloom-srp\",hl:hl,json:\"t\",callback:\"hS\",q:S};\"undefined\"!==typeof ds&&ds&&(a.ds=ds);var b=document;var c=\"SCRIPT\";\"application/xhtml+xml\"===b.contentType&&(c=c.toLowerCase());c=b.createElement(c);b=y();b=z.exec(u(b).toString());var e=b[3]||\"\";a=x(b[1]+A(\"?\",b[2]||\"\",a)+A(\"#\",e,void 0));c.src=u(a);var d,n;(d=(a=null==(n=(d=(c.ownerDocument&&c.ownerDocument.defaultView||window).document).querySelector)?void 0:n.call(d,\"script[nonce]\"))?a.nonce||a.getAttribute(\"nonce\")||\n",
      "\"\":\"\")&&c.setAttribute(\"nonce\",d);document.body.appendChild(c);S=null;R=setTimeout(W,500)}}function X(){for(;K.firstChild;)K.removeChild(K.firstChild);N=[];O=-1;U(!1)}function Y(){var a=K.querySelector(\".scs\");a&&(a.className=\"\");0<=O?(a=K.childNodes[O],a.className=\"scs\",M=a.textContent):M=Q;I.value=M}I.addEventListener(\"focus\",function(){F&&(F.style.display=\"none\")},!1);I.addEventListener(\"blur\",function(){X();F&&(F.style.display=\"\")},!1);I.addEventListener(\"keyup\",function(a){M=I.value;T=!1;13===a.which?V():27===a.which?(X(),F&&(F.style.display=\"\"),M=Q,I.value=M):40===a.which?(O++,O>=N.length&&(O=-1),Y()):38===a.which?(O--,-1>O&&(O=N.length-1),Y()):(a=M)?(L&&(L.style.display=\"\"),S=a,R||W(),Q=a):(L&&(L.style.display=\"none\"),U(!1),X(),Q=\"\",T=!0)},!1);J.addEventListener(\"click\",V,!1);L.addEventListener(\"click\",function(){I.value=\"\";L.style.display=\"none\";U(!1)},!1);H.addEventListener(\"click\",function(){I.focus()},!1);window.hS=function(a){if(!T){X();0===a[1].length&&U(!1);for(var b=0;b<a[1].length;b++){var c=a[1][b][0],e=document.createElement(\"div\");E(e,D(c));e.addEventListener(\"mousedown\",function(d){d.preventDefault();return!1},!1);c=c.replace(/<\\/?b>/g,\"\");e.addEventListener(\"click\",function(d){return function(){O=d;V();Y();X();G.submit()}}(b),!1);e.addEventListener(\"mouseover\",function(d){return function(){O!==d&&(O=d,Y())}}(b),!1);K.appendChild(e);U(!0);N.push(c)}}};}).call(this);})();(function(){\n",
      "function b(a){for(a=a.target||a.srcElement;a&&\"A\"!==a.nodeName;)a=a.parentElement;a&&(a.href||\"\").match(/\\/search.*[?&]tbm=isch/)&&(a.href+=\"&biw=\"+document.documentElement.clientWidth,a.href+=\"&bih=\"+document.documentElement.clientHeight)}document.addEventListener(\"click\",b,!1);document.addEventListener(\"touchStart\",b,!1);}).call(this);</script></div><!-- cctlcm 5 cctlcm --><textarea class=\"csi\" name=\"csi\" style=\"display:none\"></textarea><script nonce=\"h6OBS9ZoR0LInteKziY5gw==\">(function(){var e='degsYvLxE8XU9APe4pLAAw';var sn='web';var timl=false;(function(){\n",
      "function y(a){if(!a||z(a))return 0;if(!a.getBoundingClientRect)return 1;var c=function(b){return b.getBoundingClientRect()};return A(a,c)?0:K(a,c)}function A(a,c){var b;a:{for(b=a;b&&null!==b;b=b.parentElement)if(\"hidden\"===b.style.overflow)break a;b=null}if(!b)return!1;a=c(a);c=c(b);return a.bottom<c.top||a.top>=c.bottom||a.right<c.left||a.left>=c.right}\n",
      "function z(a){return\"none\"===a.style.display?!0:document.defaultView&&document.defaultView.getComputedStyle?(a=document.defaultView.getComputedStyle(a),!!a&&(\"hidden\"===a.visibility||\"0px\"===a.height&&\"0px\"===a.width)):!1}\n",
      "function K(a,c){var b=c(a);a=b.left+window.pageXOffset;c=b.top+window.pageYOffset;var f=b.width;b=b.height;var g=0;if(0>=b&&0>=f)return g;var p=window.innerHeight||document.documentElement.clientHeight;0>c+b?g=2:c>=p&&(g=4);if(0>a+f||a>=(window.innerWidth||document.documentElement.clientWidth))g|=8;g||(g=1,c+b>p&&(g|=4));return g};var L=e,M=sn,N=\"undefined\"===typeof de?!0:!1!==de,O=[];function P(a,c,b){a=\"/gen_204?atyp=csi&s=\"+(M||\"web\")+\"&t=\"+a+(\"&lite=1&ei=\"+L+\"&conn=\"+(window.navigator&&window.navigator.connection?window.navigator.connection.type:-1)+c);c=\"&rt=\";for(var f in b)a+=\"\"+c+f+\".\"+b[f],c=\",\";return a}function Q(a){a={prt:a};window.wsrt&&(a.wsrt=window.wsrt);return a}function R(a){window.ping?window.ping(a):(new Image).src=a}\n",
      "(function(){for(var a=(new Date).getTime()-window.start,c=Q(a),b=0,f=0,g=0,p=document.getElementsByTagName(\"img\"),q=N?\"&biw=\"+window.innerWidth+\"&bih=\"+window.innerHeight:\"\",S=function(h,r){h.onload=function(){f=(new Date).getTime()-window.start;r&&++u==g&&(b=f,B());h.onload=null}},B=function(){q+=\"&ima=\"+g;c.aft=b;R(P(\"aft\",q,c))},u=0,T=0,d=void 0;d=p[T++];){var t=y(d),n=!!(t&1);n&&++g;var l=d.hasAttribute(\"data-ilite\"),v=d.hasAttribute(\"data-deferred\")||l,C=d.getAttribute(\"data-src\")||d.getAttribute(\"data-lzysrc\"),D=!v&&C;O.push([t,v,D,google.ldi&&d.id&&google.ldi[d.id]||l&&C]);l=(t=d.complete&&(l||!v&&!(n&&D)))&&Number(d.getAttribute(\"data-iml\"))||0;t&&l?(n&&++u,l&&(d=l-window.start,n&&(b=Math.max(b,d)),f=Math.max(f,d))):S(d,n)}b||(b=a);f||(f=b);u==g&&B();google.rglh&&google.rglh();window.addEventListener(\"load\",function(){window.setTimeout(function(){c.ol=(new Date).getTime()-window.start;timl&&(c.iml=f);var h=window.performance&&window.performance.timing;h&&(c.rqst=h.responseEnd-h.requestStart,c.rspt=h.responseEnd-\n",
      "h.responseStart);for(var r=h=0,E=0,F=0,G=0,H=0,U=0,k;k=O[U++];){var m=k[0],w=k[1],I=k[2];k=k[3];var V=0==m,x=m&8,J=m&4;(m=1==m||2==m||x&&!J)&&!x&&(w&&!k||++E,I&&++H);w&&(m&&k&&++h,J&&!k&&++r);V||x?I||++G:w||++F}q+=\"&ime=\"+E+\"&imel=\"+H+(\"&imex=\"+F+\"&imeh=\"+G)+(\"&imea=\"+h+\"&imeb=\"+r);R(P(\"all\",q,c))},0)},!1)})();}).call(this);})();</script><script nonce=\"h6OBS9ZoR0LInteKziY5gw==\">\n",
      "function _setImagesSrc(e,d){function f(b){b.onerror=function(){b.style.display=\"none\"};b.src=d}for(var g=0,a=void 0;a=e[g++];){var c=document.getElementById(a)||document.querySelector('img[data-iid=\"'+a+'\"]');c?(a=void 0,(null==(a=google.c)?0:a.setup)&&google.c.setup(c),f(c)):(google.iir=google.iir||{},google.iir[a]=d)}}\"undefined\"==typeof window.google&&(window.google={});</script><script nonce=\"h6OBS9ZoR0LInteKziY5gw==\">(function(){var s='data:image/jpeg;base64,/9j/4AAQSkZJRgABAQAAAQABAAD/2wCEAAkGBwgHBgkIBwgKCgkLDRYPDQwMDRsUFRAWIB0iIiAdHx8kKDQsJCYxJx8fLT0tMTU3Ojo6Iys/RD84QzQ5OjcBCgoKDQwNGg8PGjclHyU3Nzc3Nzc3Nzc3Nzc3Nzc3Nzc3Nzc3Nzc3Nzc3Nzc3Nzc3Nzc3Nzc3Nzc3Nzc3Nzc3N//AABEIACgAKAMBIgACEQEDEQH/xAAZAAEBAQEBAQAAAAAAAAAAAAAABQYEBwP/xAAwEAABAQcCAwYGAwAAAAAAAAABAgADBAUGERIhMRMVURQiUmFxkUGBwdHh8BYjJP/EABkBAAIDAQAAAAAAAAAAAAAAAAIDAAEEBf/EAB4RAAMAAgIDAQAAAAAAAAAAAAABAgMRITEiQVES/9oADAMBAAIRAxEAPwCWxu6Sy7mswdwnHdOAoE5vDpp8B1LaJNLyKIWYWEqF2uM2CDbFSug6/LVsKhs4UYqpbMexq4pyZc65Twv9G+V+7j4r9GtKpeRQ7zssXULtEZsUDEJCuh/LRQ2WsNMxzG7p1LuVTB5CF+7fYi+bvbUbeRYwtNCqTl6ZYpun5dMpRFTCYRUS5EOshXBANhbe1ib6lvqmW0gFJLucx+VxgUoF730t3N7tKpyev5HErW7Ql64eJxeuVbK6H1392toqWnoZ4YqDp5CYvcKViEg/vkzpa0bMbxuV1wb8ohuORxj2zsmOdhxML7+t286VLqQKlFc6j8sjlkkXvfW/d3u0z+SzLnfNeL/fthrjj4bdGsrqSnol4IqLp5KozdSklOJPv9GP9zQys0Ze/X05Kjp+XSyUwsfL4qJfCIXZPGA1Ta97AA/AMafUU9fzyKQt6gOnDoYuXKRonqfM/ZjIt88GLM5deJJsxjGEDsMYxoTYsxjGrZNn/9k\\x3d';var i=['dimg_15'];_setImagesSrc(i,s);})();</script><script nonce=\"h6OBS9ZoR0LInteKziY5gw==\">(function(){var s='data:image/jpeg;base64,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\\x3d\\x3d';var i=['dimg_19'];_setImagesSrc(i,s);})();</script><script nonce=\"h6OBS9ZoR0LInteKziY5gw==\">(function(){var s='data:image/jpeg;base64,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';var i=['dimg_21'];_setImagesSrc(i,s);})();</script><script nonce=\"h6OBS9ZoR0LInteKziY5gw==\">(function(){var s='data:image/png;base64,iVBORw0KGgoAAAANSUhEUgAAAOcAAACCCAMAAACKEy/7AAAAA1BMVEX///+nxBvIAAAAM0lEQVR4nO3BAQEAAACCIP+vbkhAAQAAAAAAAAAAAAAAAAAAAAAAAAAAAAAAAAAAAAB8GHXQAAGJJS33AAAAAElFTkSuQmCC';var i=['dimg_23'];_setImagesSrc(i,s);})();</script><script nonce=\"h6OBS9ZoR0LInteKziY5gw==\">(function(){var s='data:image/jpeg;base64,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\\x3d';var i=['dimg_25'];_setImagesSrc(i,s);})();</script><script nonce=\"h6OBS9ZoR0LInteKziY5gw==\">(function(){var s='data:image/png;base64,iVBORw0KGgoAAAANSUhEUgAAABgAAAAYAgMAAACdGdVrAAAADFBMVEVMaXFChfRChfRChfT0tCPZAAAAA3RSTlMAgFJEkGxNAAAAL0lEQVR4AWPADxgdwBT3BTDF9AUiuhdC6WNK/v///y+UggrClSA07EWVglmEFwAA5eYSExeCwigAAAAASUVORK5CYII\\x3d';var i=['dimg_27'];_setImagesSrc(i,s);})();</script><script nonce=\"h6OBS9ZoR0LInteKziY5gw==\">(function(){var s='data:image/png;base64,iVBORw0KGgoAAAANSUhEUgAAABQAAAAUCAYAAACNiR0NAAABAUlEQVR4AWMYesChoYElLjkzPj4lY3d8csZjIL4MxPNjUzPcSTYsISFLAqj5NBD/h+LPQPwbiT87NCuLh2gDgRr2QzXuT0jNMoBYksARn5zuHJ+UcR0kB6RXE2VYXHJGOlTDZmzyIJcB5e+D1CSkZDgQNBAaZv+jU1JkcKpJygiGeZ0I76a/Byq8jU9NZFqaCNTA48SE33/iDcw8TIyBt0GKQTFN0Msp6f2EIyUpo57YSIlLSrMhIg0WCIBcCfXSdlzJBsheTHQ6jEnOUgEFOLaEDbMIlhZBOYrorAdJk+nroVnvPsSgdGdoOF7HZyhZ2XPoGQoqjbCpIbt0AiejIQMArVLI7k/DXFkAAAAASUVORK5CYII\\x3d';var i=['dimg_1','dimg_3','dimg_5','dimg_7','dimg_9','dimg_11','dimg_13','dimg_17'];_setImagesSrc(i,s);})();</script><script nonce=\"h6OBS9ZoR0LInteKziY5gw==\">(function(){var e='degsYvLxE8XU9APe4pLAAw';(function(){\n",
      "var a=e;2===(window.performance&&window.performance.navigation&&window.performance.navigation.type)&&window.ping(\"/gen_204?ct=backbutton&ei=\"+a);}).call(this);})();(function(){\n",
      "var b=[function(){google.tick&&google.tick(\"load\",\"dcl\")}];google.dclc=function(a){b.length?b.push(a):a()};function c(){for(var a=b.shift();a;)a(),a=b.shift()}window.addEventListener?(document.addEventListener(\"DOMContentLoaded\",c,!1),window.addEventListener(\"load\",c,!1)):window.attachEvent&&window.attachEvent(\"onload\",c);}).call(this);\n",
      "window.jsl=window.jsl||{};window.jsl.dh=function(a,b,f){try{var g=document.getElementById(a);if(g)g.innerHTML=b,f&&f();else{var c={id:a,script:String(!!f),milestone:String(google.jslm||0)};google.jsla&&(c.async=google.jsla);var h=a.indexOf(\"_\"),d=0<h?a.substring(0,h):\"\",k=document.createElement(\"div\");k.innerHTML=b;var e=k.children[0];if(e&&(c.tag=e.tagName,c[\"class\"]=String(e.className||null),c.name=String(e.getAttribute(\"jsname\")),d)){a=[];var l=document.querySelectorAll('[id^=\"'+d+'_\"]');for(b=0;b<l.length;++b)a.push(l[b].id);c.ids=a.join(\",\")}google.ml(Error(d?\"Missing ID with prefix \"+d:\"Missing ID\"),!1,c)}}catch(m){google.ml(m,!0,{\"jsl.dh\":!0})}};(function(){var x=false;\n",
      "google.jslm=x?2:1;})();(function(){(function(){google.csct={};google.csct.ps='AOvVaw2JGw1VkvZgf45gD-Y8qjyZ\\x26ust\\x3d1647196661357704';})();})();(function(){(function(){google.csct.rd=true;})();})();(function(){(function(){google.csct.rl=true;})();})();(function(){\n",
      "window.xp=function(b){function f(k,g,h){return\"xp\"+(\"x\"==g?\"c\":\"x\")+h}for(var c=/\\bxp(x|c)(\\d?)\\b/,a=b;a;){var e=a.className,d=e.match(c);if(d){d=\"c\"==d[1];a.className=e.replace(c,f);b&&b.setAttribute(\"aria-expanded\",d);if(d)for(b=a.getElementsByTagName(\"img\"),c=0;c<b.length;++c)if(a=b[c],e=a.getAttribute(\"data-ll\"))a.src=e,a.removeAttribute(\"data-ll\");break}a=a.parentElement}};})();(function(){(function(){\n",
      "window.logVe=function(a){a&&a.attributes[\"data-ved\"]&&window.ping(\"/gen_204?ved=\"+a.attributes[\"data-ved\"].value)};}).call(this);})();(function(){(function(){var id='tsuid1';var lve=true;(function(){\n",
      "\n",
      "\n",
      "var e=\"undefined\"!=typeof navigator&&!/Opera/.test(navigator.userAgent)&&/WebKit/.test(navigator.userAgent),f={A:1,INPUT:1,TEXTAREA:1,SELECT:1,BUTTON:1},g={Enter:13,\" \":32},h={A:13,BUTTON:0,CHECKBOX:32,COMBOBOX:13,FILE:0,GRIDCELL:13,LINK:13,LISTBOX:13,MENU:0,MENUBAR:0,MENUITEM:0,MENUITEMCHECKBOX:0,MENUITEMRADIO:0,OPTION:0,RADIO:32,RADIOGROUP:32,RESET:0,SUBMIT:0,SWITCH:32,TAB:0,TREE:13,TREEITEM:13},k={CHECKBOX:!0,FILE:!0,OPTION:!0,RADIO:!0},l={COLOR:!0,DATE:!0,DATETIME:!0,\"DATETIME-LOCAL\":!0,EMAIL:!0,MONTH:!0,NUMBER:!0,PASSWORD:!0,RANGE:!0,SEARCH:!0,TEL:!0,TEXT:!0,TEXTAREA:!0,TIME:!0,URL:!0,WEEK:!0};document.getElementById(id).onclick=function(){window.xp(this);lve&&window.logVe(this)};document.getElementById(id).onkeydown=function(d){var c=d.which||d.keyCode;!c&&d.key&&(c=g[d.key]);e&&3==c&&(c=13);if(13!=c&&32!=c)c=!1;else{var a=d.target||d.srcElement;!a.getAttribute&&a.parentNode&&(a=a.parentNode);var b;if(!(b=\"keydown\"!=d.type)){if(b=\"getAttribute\"in a)b=!((a.getAttribute(\"type\")||a.tagName).toUpperCase()in l);b=!(b&&!(\"BUTTON\"==a.tagName.toUpperCase()||a.type&&\"FILE\"==a.type.toUpperCase())&&!a.isContentEditable)}(b=b||d.ctrlKey||d.shiftKey||d.altKey||d.metaKey||(a.getAttribute(\"type\")||\n",
      "a.tagName).toUpperCase()in k&&32==c)||((b=a.tagName in f)||(b=a.getAttributeNode(\"tabindex\"),b=null!=b&&b.specified),b=!(b&&!a.disabled));if(b)c=!1;else{b=(a.getAttribute(\"role\")||a.type||a.tagName).toUpperCase();var m=!(b in h)&&13==c;a=\"INPUT\"!=a.tagName.toUpperCase()||!!a.type;c=(0==h[b]%c||m)&&a}}c&&(d.preventDefault(),window.xp(this),lve&&window.logVe(this))};}).call(this);})();})();(function(){window.jsl=window.jsl||{};window.jsl.dh=window.jsl.dh||function(i,c,d){try{var e=document.getElementById(i);if(e){e.innerHTML=c;if(d){d();}}else{if(window.jsl.el){window.jsl.el(new Error('Missing ID.'),{'id':i});}}}catch(e){if(window.jsl.el){window.jsl.el(new Error('jsl.dh'));}}};})();(function(){window.jsl.dh('accdef_1','\\x3cdiv\\x3e\\x3cdiv style\\x3d\\x22padding-bottom:12px;padding-top:0px\\x22 class\\x3d\\x22hwc kCrYT\\x22\\x3e\\x3cdiv class\\x3d\\x22yStFkb\\x22\\x3e\\x3cdiv class\\x3d\\x22ZINbbc xpd O9g5cc uUPGi\\x22\\x3e\\x3cdiv class\\x3d\\x22kCrYT\\x22\\x3e\\x3cdiv\\x3e\\x3cdiv class\\x3d\\x22BNeawe s3v9rd AP7Wnd\\x22\\x3e\\x3cdiv\\x3e\\x3cdiv class\\x3d\\x22BNeawe s3v9rd AP7Wnd\\x22\\x3e\\x3cspan class\\x3d\\x22atOwb UMOHqf\\x22\\x3eSandeep Jain\\x3c/span\\x3e is the founder at GeeksforGeeks. He is an alumini of Indian Institute of Technology Roorkee. His platform GeeksforGeeks is well recognized among all the engineering students throughout all colleges in India.\\x3c/div\\x3e\\x3c/div\\x3e\\x3c/div\\x3e\\x3c/div\\x3e\\x3c/div\\x3e\\x3cdiv class\\x3d\\x22x54gtf\\x22\\x3e\\x3c/div\\x3e\\x3cdiv class\\x3d\\x22kCrYT\\x22\\x3e\\x3ca href\\x3d\\x22/url?q\\x3dhttps://www.nitj.ac.in/ecell/esummit/speakers.html\\x26amp;sa\\x3dU\\x26amp;ved\\x3d2ahUKEwiygKHwm8H2AhVFKn0KHV6xBDgQFXoECAQQBQ\\x26amp;usg\\x3dAOvVaw2PPKDa6xYOwL63vtbjXGR7\\x22\\x3e\\x3cspan\\x3e\\x3cdiv class\\x3d\\x22BNeawe vvjwJb AP7Wnd\\x22\\x3e\\x3cspan class\\x3d\\x22UMOHqf EDgFbc\\x22\\x3eFounder \\x26amp; CEO, GeeksForGeeks - NIT Jalandhar\\x3c/span\\x3e\\x3c/div\\x3e\\x3c/span\\x3e\\x3cspan\\x3e\\x3cdiv class\\x3d\\x22BNeawe UPmit AP7Wnd\\x22\\x3ewww.nitj.ac.in \\u203a ecell \\u203a esummit \\u203a speakers\\x3c/div\\x3e\\x3c/span\\x3e\\x3c/a\\x3e\\x3c/div\\x3e\\x3c/div\\x3e\\x3c/div\\x3e\\x3cdiv\\x3e\\x3cdiv class\\x3d\\x22P1NWSe\\x22\\x3e\\x3cdiv class\\x3d\\x22wOMIed nkPlDb\\x22\\x3e\\x3cspan class\\x3d\\x22JhFlyf VQFmSd\\x22\\x3e\\x3ca class\\x3d\\x22f4J0H\\x22 href\\x3d\\x22https://www.google.com/search?ie\\x3dUTF-8\\x26amp;ei\\x3ddegsYvLxE8XU9APe4pLAAw\\x26amp;q\\x3dWho+owns+GeeksforGeeks?\\x26amp;sa\\x3dX\\x26amp;ved\\x3d2ahUKEwiygKHwm8H2AhVFKn0KHV6xBDgQzmd6BAgEEAc\\x22\\x3eMore results\\x3c/a\\x3e\\x3c/span\\x3e\\x3c/div\\x3e\\x3c/div\\x3e\\x3c/div\\x3e\\x3c/div\\x3e\\x3c/div\\x3e');})();(function(){(function(){var id='tsuid2';var lve=true;(function(){\n",
      "\n",
      "\n",
      "var e=\"undefined\"!=typeof navigator&&!/Opera/.test(navigator.userAgent)&&/WebKit/.test(navigator.userAgent),f={A:1,INPUT:1,TEXTAREA:1,SELECT:1,BUTTON:1},g={Enter:13,\" \":32},h={A:13,BUTTON:0,CHECKBOX:32,COMBOBOX:13,FILE:0,GRIDCELL:13,LINK:13,LISTBOX:13,MENU:0,MENUBAR:0,MENUITEM:0,MENUITEMCHECKBOX:0,MENUITEMRADIO:0,OPTION:0,RADIO:32,RADIOGROUP:32,RESET:0,SUBMIT:0,SWITCH:32,TAB:0,TREE:13,TREEITEM:13},k={CHECKBOX:!0,FILE:!0,OPTION:!0,RADIO:!0},l={COLOR:!0,DATE:!0,DATETIME:!0,\"DATETIME-LOCAL\":!0,EMAIL:!0,MONTH:!0,NUMBER:!0,PASSWORD:!0,RANGE:!0,SEARCH:!0,TEL:!0,TEXT:!0,TEXTAREA:!0,TIME:!0,URL:!0,WEEK:!0};document.getElementById(id).onclick=function(){window.xp(this);lve&&window.logVe(this)};document.getElementById(id).onkeydown=function(d){var c=d.which||d.keyCode;!c&&d.key&&(c=g[d.key]);e&&3==c&&(c=13);if(13!=c&&32!=c)c=!1;else{var a=d.target||d.srcElement;!a.getAttribute&&a.parentNode&&(a=a.parentNode);var b;if(!(b=\"keydown\"!=d.type)){if(b=\"getAttribute\"in a)b=!((a.getAttribute(\"type\")||a.tagName).toUpperCase()in l);b=!(b&&!(\"BUTTON\"==a.tagName.toUpperCase()||a.type&&\"FILE\"==a.type.toUpperCase())&&!a.isContentEditable)}(b=b||d.ctrlKey||d.shiftKey||d.altKey||d.metaKey||(a.getAttribute(\"type\")||\n",
      "a.tagName).toUpperCase()in k&&32==c)||((b=a.tagName in f)||(b=a.getAttributeNode(\"tabindex\"),b=null!=b&&b.specified),b=!(b&&!a.disabled));if(b)c=!1;else{b=(a.getAttribute(\"role\")||a.type||a.tagName).toUpperCase();var m=!(b in h)&&13==c;a=\"INPUT\"!=a.tagName.toUpperCase()||!!a.type;c=(0==h[b]%c||m)&&a}}c&&(d.preventDefault(),window.xp(this),lve&&window.logVe(this))};}).call(this);})();})();(function(){window.jsl.dh('accdef_3','\\x3cdiv\\x3e\\x3cdiv style\\x3d\\x22padding-bottom:12px;padding-top:0px\\x22 class\\x3d\\x22hwc kCrYT\\x22\\x3e\\x3cdiv class\\x3d\\x22yStFkb\\x22\\x3e\\x3cdiv class\\x3d\\x22ZINbbc xpd O9g5cc uUPGi\\x22\\x3e\\x3cdiv class\\x3d\\x22kCrYT\\x22\\x3e\\x3cdiv\\x3e\\x3cdiv class\\x3d\\x22BNeawe s3v9rd AP7Wnd\\x22\\x3e\\x3cdiv\\x3e\\x3cdiv class\\x3d\\x22BNeawe s3v9rd AP7Wnd\\x22\\x3eGeeksforGeeks is \\x3cspan class\\x3d\\x22atOwb UMOHqf\\x22\\x3ea platform for people who are searching for useful articles dedicated to programming languages\\x3c/span\\x3e. This website includes well-explained, well-thought-out, and well-written computer science and programming articles.\\x3c/div\\x3e\\x3c/div\\x3e\\x3c/div\\x3e\\x3c/div\\x3e\\x3c/div\\x3e\\x3cdiv class\\x3d\\x22x54gtf\\x22\\x3e\\x3c/div\\x3e\\x3cdiv class\\x3d\\x22kCrYT\\x22\\x3e\\x3ca href\\x3d\\x22/url?q\\x3dhttps://startuptalky.com/geeksforgeeks-practice-coding/\\x26amp;sa\\x3dU\\x26amp;ved\\x3d2ahUKEwiygKHwm8H2AhVFKn0KHV6xBDgQFXoECAQQDA\\x26amp;usg\\x3dAOvVaw369q88zB17H2RT4tJI6rrp\\x22\\x3e\\x3cspan\\x3e\\x3cdiv class\\x3d\\x22BNeawe vvjwJb AP7Wnd\\x22\\x3e\\x3cspan class\\x3d\\x22UMOHqf EDgFbc\\x22\\x3eUsing GeeksforGeeks For Practice | Learning Coding - StartupTalky\\x3c/span\\x3e\\x3c/div\\x3e\\x3c/span\\x3e\\x3cspan\\x3e\\x3cdiv class\\x3d\\x22BNeawe UPmit AP7Wnd\\x22\\x3estartuptalky.com \\u203a geeksforgeeks-practice-coding\\x3c/div\\x3e\\x3c/span\\x3e\\x3c/a\\x3e\\x3c/div\\x3e\\x3c/div\\x3e\\x3c/div\\x3e\\x3cdiv\\x3e\\x3cdiv class\\x3d\\x22P1NWSe\\x22\\x3e\\x3cdiv class\\x3d\\x22wOMIed nkPlDb\\x22\\x3e\\x3cspan class\\x3d\\x22JhFlyf VQFmSd\\x22\\x3e\\x3ca class\\x3d\\x22f4J0H\\x22 href\\x3d\\x22https://www.google.com/search?ie\\x3dUTF-8\\x26amp;ei\\x3ddegsYvLxE8XU9APe4pLAAw\\x26amp;q\\x3dWhat+is+the+use+of+GeeksforGeeks?\\x26amp;sa\\x3dX\\x26amp;ved\\x3d2ahUKEwiygKHwm8H2AhVFKn0KHV6xBDgQzmd6BAgEEA4\\x22\\x3eMore results\\x3c/a\\x3e\\x3c/span\\x3e\\x3c/div\\x3e\\x3c/div\\x3e\\x3c/div\\x3e\\x3c/div\\x3e\\x3c/div\\x3e');})();(function(){(function(){var id='tsuid3';var lve=true;(function(){\n",
      "\n",
      "\n",
      "var e=\"undefined\"!=typeof navigator&&!/Opera/.test(navigator.userAgent)&&/WebKit/.test(navigator.userAgent),f={A:1,INPUT:1,TEXTAREA:1,SELECT:1,BUTTON:1},g={Enter:13,\" \":32},h={A:13,BUTTON:0,CHECKBOX:32,COMBOBOX:13,FILE:0,GRIDCELL:13,LINK:13,LISTBOX:13,MENU:0,MENUBAR:0,MENUITEM:0,MENUITEMCHECKBOX:0,MENUITEMRADIO:0,OPTION:0,RADIO:32,RADIOGROUP:32,RESET:0,SUBMIT:0,SWITCH:32,TAB:0,TREE:13,TREEITEM:13},k={CHECKBOX:!0,FILE:!0,OPTION:!0,RADIO:!0},l={COLOR:!0,DATE:!0,DATETIME:!0,\"DATETIME-LOCAL\":!0,EMAIL:!0,MONTH:!0,NUMBER:!0,PASSWORD:!0,RANGE:!0,SEARCH:!0,TEL:!0,TEXT:!0,TEXTAREA:!0,TIME:!0,URL:!0,WEEK:!0};document.getElementById(id).onclick=function(){window.xp(this);lve&&window.logVe(this)};document.getElementById(id).onkeydown=function(d){var c=d.which||d.keyCode;!c&&d.key&&(c=g[d.key]);e&&3==c&&(c=13);if(13!=c&&32!=c)c=!1;else{var a=d.target||d.srcElement;!a.getAttribute&&a.parentNode&&(a=a.parentNode);var b;if(!(b=\"keydown\"!=d.type)){if(b=\"getAttribute\"in a)b=!((a.getAttribute(\"type\")||a.tagName).toUpperCase()in l);b=!(b&&!(\"BUTTON\"==a.tagName.toUpperCase()||a.type&&\"FILE\"==a.type.toUpperCase())&&!a.isContentEditable)}(b=b||d.ctrlKey||d.shiftKey||d.altKey||d.metaKey||(a.getAttribute(\"type\")||\n",
      "a.tagName).toUpperCase()in k&&32==c)||((b=a.tagName in f)||(b=a.getAttributeNode(\"tabindex\"),b=null!=b&&b.specified),b=!(b&&!a.disabled));if(b)c=!1;else{b=(a.getAttribute(\"role\")||a.type||a.tagName).toUpperCase();var m=!(b in h)&&13==c;a=\"INPUT\"!=a.tagName.toUpperCase()||!!a.type;c=(0==h[b]%c||m)&&a}}c&&(d.preventDefault(),window.xp(this),lve&&window.logVe(this))};}).call(this);})();})();(function(){window.jsl.dh('accdef_5','\\x3cdiv\\x3e\\x3cdiv style\\x3d\\x22padding-bottom:12px;padding-top:0px\\x22 class\\x3d\\x22hwc kCrYT\\x22\\x3e\\x3cdiv class\\x3d\\x22yStFkb\\x22\\x3e\\x3cdiv class\\x3d\\x22ZINbbc xpd O9g5cc uUPGi\\x22\\x3e\\x3cdiv class\\x3d\\x22kCrYT\\x22\\x3e\\x3cdiv\\x3e\\x3cdiv class\\x3d\\x22BNeawe s3v9rd AP7Wnd\\x22\\x3e\\x3cdiv\\x3e\\x3cdiv class\\x3d\\x22BNeawe s3v9rd AP7Wnd\\x22\\x3eThese courses are the \\x3cspan class\\x3d\\x22atOwb UMOHqf\\x22\\x3eFree Online Courses provided by GeeksforGeeks\\x3c/span\\x3e. You can access them from any device with an internet connection and learn on the go. And they are free which is always a bonus!!!\\x3c/div\\x3e\\x3c/div\\x3e\\x3c/div\\x3e\\x3c/div\\x3e\\x3c/div\\x3e\\x3cdiv class\\x3d\\x22x54gtf\\x22\\x3e\\x3c/div\\x3e\\x3cdiv class\\x3d\\x22kCrYT\\x22\\x3e\\x3ca href\\x3d\\x22/url?q\\x3dhttps://www.geeksforgeeks.org/learn-with-geeksforgeeks-course-best-courses-to-land-job-in-your-dream-company/\\x26amp;sa\\x3dU\\x26amp;ved\\x3d2ahUKEwiygKHwm8H2AhVFKn0KHV6xBDgQFXoECAQQEw\\x26amp;usg\\x3dAOvVaw0WfFcBQbPGx80AyUkPrqPK\\x22\\x3e\\x3cspan\\x3e\\x3cdiv class\\x3d\\x22BNeawe vvjwJb AP7Wnd\\x22\\x3e\\x3cspan class\\x3d\\x22UMOHqf EDgFbc\\x22\\x3eLearn with GeeksforGeeks Course - Best Courses To Land Job In Your ...\\x3c/span\\x3e\\x3c/div\\x3e\\x3c/span\\x3e\\x3cspan\\x3e\\x3cdiv class\\x3d\\x22BNeawe UPmit AP7Wnd\\x22\\x3ewww.geeksforgeeks.org \\u203a learn-with-geeksforgeeks-course-best-courses-to...\\x3c/div\\x3e\\x3c/span\\x3e\\x3c/a\\x3e\\x3c/div\\x3e\\x3c/div\\x3e\\x3c/div\\x3e\\x3cdiv\\x3e\\x3cdiv class\\x3d\\x22P1NWSe\\x22\\x3e\\x3cdiv class\\x3d\\x22wOMIed nkPlDb\\x22\\x3e\\x3cspan class\\x3d\\x22JhFlyf VQFmSd\\x22\\x3e\\x3ca class\\x3d\\x22f4J0H\\x22 href\\x3d\\x22https://www.google.com/search?ie\\x3dUTF-8\\x26amp;ei\\x3ddegsYvLxE8XU9APe4pLAAw\\x26amp;q\\x3dAre+GeeksforGeeks+course+free?\\x26amp;sa\\x3dX\\x26amp;ved\\x3d2ahUKEwiygKHwm8H2AhVFKn0KHV6xBDgQzmd6BAgEEBU\\x22\\x3eMore results\\x3c/a\\x3e\\x3c/span\\x3e\\x3c/div\\x3e\\x3c/div\\x3e\\x3c/div\\x3e\\x3c/div\\x3e\\x3c/div\\x3e');})();(function(){(function(){var id='tsuid4';var lve=true;(function(){\n",
      "\n",
      "\n",
      "var e=\"undefined\"!=typeof navigator&&!/Opera/.test(navigator.userAgent)&&/WebKit/.test(navigator.userAgent),f={A:1,INPUT:1,TEXTAREA:1,SELECT:1,BUTTON:1},g={Enter:13,\" \":32},h={A:13,BUTTON:0,CHECKBOX:32,COMBOBOX:13,FILE:0,GRIDCELL:13,LINK:13,LISTBOX:13,MENU:0,MENUBAR:0,MENUITEM:0,MENUITEMCHECKBOX:0,MENUITEMRADIO:0,OPTION:0,RADIO:32,RADIOGROUP:32,RESET:0,SUBMIT:0,SWITCH:32,TAB:0,TREE:13,TREEITEM:13},k={CHECKBOX:!0,FILE:!0,OPTION:!0,RADIO:!0},l={COLOR:!0,DATE:!0,DATETIME:!0,\"DATETIME-LOCAL\":!0,EMAIL:!0,MONTH:!0,NUMBER:!0,PASSWORD:!0,RANGE:!0,SEARCH:!0,TEL:!0,TEXT:!0,TEXTAREA:!0,TIME:!0,URL:!0,WEEK:!0};document.getElementById(id).onclick=function(){window.xp(this);lve&&window.logVe(this)};document.getElementById(id).onkeydown=function(d){var c=d.which||d.keyCode;!c&&d.key&&(c=g[d.key]);e&&3==c&&(c=13);if(13!=c&&32!=c)c=!1;else{var a=d.target||d.srcElement;!a.getAttribute&&a.parentNode&&(a=a.parentNode);var b;if(!(b=\"keydown\"!=d.type)){if(b=\"getAttribute\"in a)b=!((a.getAttribute(\"type\")||a.tagName).toUpperCase()in l);b=!(b&&!(\"BUTTON\"==a.tagName.toUpperCase()||a.type&&\"FILE\"==a.type.toUpperCase())&&!a.isContentEditable)}(b=b||d.ctrlKey||d.shiftKey||d.altKey||d.metaKey||(a.getAttribute(\"type\")||\n",
      "a.tagName).toUpperCase()in k&&32==c)||((b=a.tagName in f)||(b=a.getAttributeNode(\"tabindex\"),b=null!=b&&b.specified),b=!(b&&!a.disabled));if(b)c=!1;else{b=(a.getAttribute(\"role\")||a.type||a.tagName).toUpperCase();var m=!(b in h)&&13==c;a=\"INPUT\"!=a.tagName.toUpperCase()||!!a.type;c=(0==h[b]%c||m)&&a}}c&&(d.preventDefault(),window.xp(this),lve&&window.logVe(this))};}).call(this);})();})();(function(){window.jsl.dh('accdef_7','\\x3cdiv\\x3e\\x3cdiv style\\x3d\\x22padding-bottom:12px;padding-top:0px\\x22 class\\x3d\\x22hwc kCrYT\\x22\\x3e\\x3cdiv class\\x3d\\x22yStFkb\\x22\\x3e\\x3cdiv class\\x3d\\x22ZINbbc xpd O9g5cc uUPGi\\x22\\x3e\\x3cdiv class\\x3d\\x22kCrYT\\x22\\x3e\\x3cdiv\\x3e\\x3cdiv class\\x3d\\x22BNeawe s3v9rd AP7Wnd\\x22\\x3e\\x3cdiv\\x3e\\x3cdiv class\\x3d\\x22BNeawe s3v9rd AP7Wnd\\x22\\x3eI found it \\x3cspan class\\x3d\\x22atOwb UMOHqf\\x22\\x3efairly reliable\\x3c/span\\x3e. Not perfect, sometimes the explanations aren\\x27t super clear, but they do a pretty good job. I used it mostly for dynamic programming. They often showed the major important steps, like the recursive solution, the dp solution, and sometimes a clever/improved solution.\\x3c/div\\x3e\\x3c/div\\x3e\\x3c/div\\x3e\\x3c/div\\x3e\\x3c/div\\x3e\\x3cdiv class\\x3d\\x22x54gtf\\x22\\x3e\\x3c/div\\x3e\\x3cdiv class\\x3d\\x22kCrYT\\x22\\x3e\\x3ca href\\x3d\\x22/url?q\\x3dhttps://www.reddit.com/r/learnprogramming/comments/6ffg9h/how_reliable_is_geeksforgeeks/\\x26amp;sa\\x3dU\\x26amp;ved\\x3d2ahUKEwiygKHwm8H2AhVFKn0KHV6xBDgQFXoECAQQGg\\x26amp;usg\\x3dAOvVaw3NZbdY7dPI82ESAVljCpQj\\x22\\x3e\\x3cspan\\x3e\\x3cdiv class\\x3d\\x22BNeawe vvjwJb AP7Wnd\\x22\\x3e\\x3cspan class\\x3d\\x22UMOHqf EDgFbc\\x22\\x3eHow reliable is GeeksForGeeks? : r/learnprogramming - Reddit\\x3c/span\\x3e\\x3c/div\\x3e\\x3c/span\\x3e\\x3cspan\\x3e\\x3cdiv class\\x3d\\x22BNeawe UPmit AP7Wnd\\x22\\x3ewww.reddit.com \\u203a learnprogramming \\u203a comments \\u203a how_reliable_is_geek...\\x3c/div\\x3e\\x3c/span\\x3e\\x3c/a\\x3e\\x3c/div\\x3e\\x3c/div\\x3e\\x3c/div\\x3e\\x3cdiv\\x3e\\x3cdiv class\\x3d\\x22P1NWSe\\x22\\x3e\\x3cdiv class\\x3d\\x22wOMIed nkPlDb\\x22\\x3e\\x3cspan class\\x3d\\x22JhFlyf VQFmSd\\x22\\x3e\\x3ca class\\x3d\\x22f4J0H\\x22 href\\x3d\\x22https://www.google.com/search?ie\\x3dUTF-8\\x26amp;ei\\x3ddegsYvLxE8XU9APe4pLAAw\\x26amp;q\\x3dIs+GeeksforGeeks+a+reliable+source?\\x26amp;sa\\x3dX\\x26amp;ved\\x3d2ahUKEwiygKHwm8H2AhVFKn0KHV6xBDgQzmd6BAgEEBw\\x22\\x3eMore results\\x3c/a\\x3e\\x3c/span\\x3e\\x3c/div\\x3e\\x3c/div\\x3e\\x3c/div\\x3e\\x3c/div\\x3e\\x3c/div\\x3e');})();(function(){window.jsl.dh('tsuid5','\\x3cdiv class\\x3d\\x22rwA8ec HDOrGf GNm3Qb\\x22 style\\x3d\\x22white-space:normal\\x22\\x3e\\x3ca jsname\\x3d\\x22gXWYVe\\x22 href\\x3d\\x22#\\x22 style\\x3d\\x22white-space:normal\\x22 data-biw\\x3d\\x221440\\x22 jsaction\\x3d\\x22click:HTIlC\\x22 role\\x3d\\x22button\\x22 tabindex\\x3d\\x220\\x22 data-ved\\x3d\\x220ahUKEwiygKHwm8H2AhVFKn0KHV6xBDgQuZ0HCHc\\x22\\x3e\\x3cdiv class\\x3d\\x22GNm3Qb\\x22\\x3e\\x3cspan class\\x3d\\x22EYqSq unknown_loc\\x22\\x3e\\x3c/span\\x3e\\x3cspan class\\x3d\\x22dfB0uf\\x22\\x3eShiraz, Fars Province\\x3c/span\\x3e\\x3c/div\\x3e\\x3cdiv class\\x3d\\x22GNm3Qb\\x22\\x3e\\x3cspan id\\x3d\\x22VdZal\\x22\\x3e\\x26nbsp;-\\x26nbsp;\\x3c/span\\x3e\\x3cspan class\\x3d\\x22KwU3F\\x22\\x3e\\x3cspan\\x3eFrom your IP address\\x3c/span\\x3e\\x3c/span\\x3e\\x3c/div\\x3e\\x3c/a\\x3e\\x3cg-dialog jsname\\x3d\\x22BDbGbf\\x22 jscontroller\\x3d\\x22VEbNoe\\x22 data-id\\x3d\\x22_degsYvLxE8XU9APe4pLAAw7\\x22 jsaction\\x3d\\x22jxvro:Imgh9b\\x22 jsdata\\x3d\\x22gctHtc;_;Br1GtI\\x22 jsshadow\\x3d\\x22\\x22\\x3e\\x3cdiv jsname\\x3d\\x22XKSfm\\x22 id\\x3d\\x22_degsYvLxE8XU9APe4pLAAw7\\x22 jsaction\\x3d\\x22dBhwS:TvD9Pc;mLt3mc\\x22\\x3e\\x3c/div\\x3e\\x3c/g-dialog\\x3e\\x3c/div\\x3e\\x3cspan id\\x3d\\x22RYW0de\\x22\\x3e\\x26nbsp;-\\x26nbsp;\\x3c/span\\x3e\\x3cupdate-location class\\x3d\\x22xSQxL HDOrGf\\x22 jscontroller\\x3d\\x22XVaCB\\x22 data-eom-state\\x3d\\x221\\x22 role\\x3d\\x22button\\x22 tabindex\\x3d\\x220\\x22 jsaction\\x3d\\x22Q1u0zb;sFrcje:SBZ73c\\x22 data-ved\\x3d\\x220ahUKEwiygKHwm8H2AhVFKn0KHV6xBDgQpLkCCHk\\x22\\x3eUpdate location\\x3cg-snackbar jsname\\x3d\\x22wzWFvc\\x22 id\\x3d\\x22tsuid8\\x22 jscontroller\\x3d\\x22OZLguc\\x22 style\\x3d\\x22display:none\\x22 data-dismiss\\x3d\\x22\\x22 jsshadow\\x3d\\x22\\x22 jsaction\\x3d\\x22rcuQ6b:npT2md\\x22\\x3e\\x3c/g-snackbar\\x3e\\x3cg-snackbar jsname\\x3d\\x22M8d6me\\x22 id\\x3d\\x22tsuid10\\x22 jscontroller\\x3d\\x22OZLguc\\x22 style\\x3d\\x22display:none\\x22 jsshadow\\x3d\\x22\\x22 jsaction\\x3d\\x22rcuQ6b:npT2md\\x22\\x3e\\x3c/g-snackbar\\x3e\\x3c/update-location\\x3e');})();(function(){window.jsl.dh('_degsYvLxE8XU9APe4pLAAw7','\\x3cdiv jsname\\x3d\\x22bF1uUb\\x22 class\\x3d\\x22t7xA6 Xz5tfb\\x22\\x3e\\x3c/div\\x3e\\x3cdiv class\\x3d\\x22bErdLd llJxV hFCnyd wwYr3\\x22\\x3e\\x3cdiv class\\x3d\\x22ls8Qne\\x22 aria-hidden\\x3d\\x22true\\x22 role\\x3d\\x22button\\x22 tabindex\\x3d\\x220\\x22 jsaction\\x3d\\x22focus:sT2f3e\\x22\\x3e\\x3c/div\\x3e\\x3cspan jsslot\\x3d\\x22\\x22\\x3e\\x3cdiv class\\x3d\\x22NJfJb TUOsUe mr5vfb Sr5CLc OosGzb\\x22 aria-labelledby\\x3d\\x22lQ3q8c\\x22 role\\x3d\\x22dialog\\x22\\x3e\\x3cdiv jsname\\x3d\\x22C8RmQc\\x22 id\\x3d\\x22C8RmQc\\x22 data-jiis\\x3d\\x22up\\x22 data-async-type\\x3d\\x22lbsc\\x22 class\\x3d\\x22yp\\x22\\x3e\\x3c/div\\x3e\\x3c/div\\x3e\\x3c/span\\x3e\\x3cdiv class\\x3d\\x22ls8Qne\\x22 aria-hidden\\x3d\\x22true\\x22 role\\x3d\\x22button\\x22 tabindex\\x3d\\x220\\x22 jsaction\\x3d\\x22focus:tuePCd\\x22\\x3e\\x3c/div\\x3e\\x3c/div\\x3e');})();(function(){window.jsl.dh('tsuid8','\\x3cdiv jsname\\x3d\\x22sM5MNb\\x22 aria-live\\x3d\\x22polite\\x22 class\\x3d\\x22tYAdEe\\x22 style\\x3d\\x22z-index:2000\\x22\\x3e\\x3cdiv jsname\\x3d\\x22Ng57nc\\x22 class\\x3d\\x22FEXCIb\\x22 data-ved\\x3d\\x220ahUKEwiygKHwm8H2AhVFKn0KHV6xBDgQ4G8Ieg\\x22\\x3e\\x3cdiv class\\x3d\\x22EA3l1b\\x22\\x3e\\x3cdiv class\\x3d\\x22Xb004\\x22 jsslot\\x3d\\x22\\x22\\x3e\\x3cspan class\\x3d\\x22awHmMb wHYlTd yUTMj\\x22\\x3eCan\\x27t update your location\\x3c/span\\x3e\\x3cg-snackbar-action class\\x3d\\x22BDp8nf zJUuqf AB4Wff aepCxe\\x22 jscontroller\\x3d\\x22xRxDld\\x22 jsaction\\x3d\\x22GtUzrb\\x22 data-ved\\x3d\\x220ahUKEwiygKHwm8H2AhVFKn0KHV6xBDgQhbkICHw\\x22\\x3e\\x3cg-flat-button class\\x3d\\x22U8shWc r2fjmd hObAcc gTewb VDgVie hpZDWd fSXIc\\x22 style\\x3d\\x22color:#4285f4\\x22 role\\x3d\\x22button\\x22 tabindex\\x3d\\x220\\x22\\x3e\\x3cspan\\x3eLearn more\\x3c/span\\x3e\\x3c/g-flat-button\\x3e\\x3c/g-snackbar-action\\x3e\\x3c/div\\x3e\\x3c/div\\x3e\\x3c/div\\x3e\\x3c/div\\x3e');})();(function(){window.jsl.dh('tsuid10','\\x3cdiv jsname\\x3d\\x22sM5MNb\\x22 aria-live\\x3d\\x22polite\\x22 class\\x3d\\x22tYAdEe\\x22 style\\x3d\\x22z-index:2000\\x22\\x3e\\x3cdiv jsname\\x3d\\x22Ng57nc\\x22 class\\x3d\\x22FEXCIb\\x22 data-ved\\x3d\\x220ahUKEwiygKHwm8H2AhVFKn0KHV6xBDgQ4G8Ifg\\x22\\x3e\\x3cdiv class\\x3d\\x22EA3l1b\\x22\\x3e\\x3cdiv class\\x3d\\x22Xb004\\x22 jsslot\\x3d\\x22\\x22\\x3e\\x3cspan class\\x3d\\x22awHmMb wHYlTd yUTMj\\x22\\x3eUpdating location\\u2026\\x3c/span\\x3e\\x3c/div\\x3e\\x3c/div\\x3e\\x3c/div\\x3e\\x3c/div\\x3e');})();google.drty&&google.drty(undefined,true);</script></body></html>\n"
     ]
    }
   ],
   "source": [
    "# Import the beautifulsoup\n",
    "# and request libraries of python.\n",
    "import requests\n",
    "import bs4\n",
    "\n",
    "# Make two strings with default google search URL\n",
    "# 'https://google.com/search?q=' and\n",
    "# our customized search keyword.\n",
    "# Concatenate them\n",
    "text= \"geeksforgeeks\"\n",
    "url = 'https://google.com/search?q=' + text\n",
    "\n",
    "# Fetch the URL data using requests.get(url),\n",
    "# store it in a variable, request_result.\n",
    "request_result=requests.get( url )\n",
    "\n",
    "# Creating soup from the fetched request\n",
    "soup = bs4.BeautifulSoup(request_result.text,\n",
    "\t\t\t\t\t\t\"html.parser\")\n",
    "print(soup)\n"
   ]
  },
  {
   "cell_type": "code",
   "execution_count": 25,
   "id": "5a440e7b",
   "metadata": {},
   "outputs": [
    {
     "name": "stdout",
     "output_type": "stream",
     "text": [
      "GeeksforGeeks\n",
      "------\n",
      "GeeksforGeeks - YouTube\n",
      "------\n",
      "GeeksforGeeks | LinkedIn\n",
      "------\n",
      "GeeksforGeeks | LinkedIn\n",
      "------\n",
      "GeeksforGeeks - Home | Facebook\n",
      "------\n",
      "GeeksforGeeks's (@geeks_for_geeks) Instagram profile • 1,403 ...\n",
      "------\n"
     ]
    }
   ],
   "source": [
    "# soup.find.all( h3 ) to grab\n",
    "# all major headings of our search result,\n",
    "heading_object=soup.find_all( 'h3' )\n",
    "\n",
    "# Iterate through the object\n",
    "# and print it as a string.\n",
    "for info in heading_object:\n",
    "\tprint(info.getText())\n",
    "\tprint(\"------\")\n"
   ]
  },
  {
   "cell_type": "code",
   "execution_count": 26,
   "id": "0bbad542",
   "metadata": {},
   "outputs": [
    {
     "name": "stdout",
     "output_type": "stream",
     "text": [
      "17°C\n"
     ]
    }
   ],
   "source": [
    "# import module\n",
    "import requests\n",
    "import bs4\n",
    "\n",
    "# Taking thecity name as an input from the user\n",
    "city = \"Imphal\"\n",
    "\n",
    "# Generating the url\n",
    "url = \"https://google.com/search?q=weather+in+\" + city\n",
    "\n",
    "# Sending HTTP request\n",
    "request_result = requests.get( url )\n",
    "\n",
    "# Pulling HTTP data from internet\n",
    "soup = bs4.BeautifulSoup( request_result.text\n",
    "\t\t\t\t\t\t, \"html.parser\" )\n",
    "\n",
    "# Finding temperature in Celsius.\n",
    "# The temperature is stored inside the class \"BNeawe\".\n",
    "temp = soup.find( \"div\" , class_='BNeawe' ).text\n",
    "\t\n",
    "print( temp )\n"
   ]
  },
  {
   "cell_type": "code",
   "execution_count": 27,
   "id": "31d42d0e",
   "metadata": {},
   "outputs": [
    {
     "name": "stdout",
     "output_type": "stream",
     "text": [
      "Title of the webpage--\n",
      "\n",
      "Python predict() function - All you need to know! - AskPython\n",
      "Hyperlink in the div of class-site--\n",
      "\n",
      "#content\n"
     ]
    }
   ],
   "source": [
    "import requests\n",
    "from bs4 import BeautifulSoup\n",
    "import random\n",
    " \n",
    "url = 'https://www.askpython.com/python/examples/python-predict-function'\n",
    "A = (\"Mozilla/5.0 (Windows NT 6.1) AppleWebKit/537.36 (KHTML, like Gecko) Chrome/41.0.2228.0 Safari/537.36\",\n",
    "       \"Mozilla/5.0 (Macintosh; Intel Mac OS X 10_10_1) AppleWebKit/537.36 (KHTML, like Gecko) Chrome/41.0.2227.1 Safari/537.36\",\n",
    "       \"Mozilla/5.0 (Windows NT 6.1; WOW64) AppleWebKit/537.36 (KHTML, like Gecko) Chrome/41.0.2227.0 Safari/537.36\",\n",
    "       )\n",
    " \n",
    "Agent = A[random.randrange(len(A))]\n",
    " \n",
    "headers = {'user-agent': Agent}\n",
    "r = requests.get(url, headers=headers)\n",
    " \n",
    "soup = BeautifulSoup(r.content, 'lxml')\n",
    " \n",
    " \n",
    "title = soup.find('title')\n",
    "print(\"Title of the webpage--\\n\")\n",
    "print(title.string)\n",
    "search = soup.find_all('div',class_=\"site\")\n",
    "print(\"Hyperlink in the div of class-site--\\n\")\n",
    "for h in search:\n",
    "    print(h.a.get('href'))"
   ]
  },
  {
   "cell_type": "code",
   "execution_count": 28,
   "id": "2822c159",
   "metadata": {},
   "outputs": [
    {
     "name": "stdout",
     "output_type": "stream",
     "text": [
      "Python.org\n",
      "#######\n",
      "Python\n",
      "#######\n",
      "Python (programming language) - Wikipedia\n",
      "#######\n",
      "Python Tutorial - W3Schools\n",
      "#######\n",
      "Introduction to Python - W3Schools\n",
      "#######\n",
      "Real Python: Python Tutorials\n",
      "#######\n",
      "Python Courses & Tutorials | Codecademy\n",
      "#######\n"
     ]
    }
   ],
   "source": [
    "import requests\n",
    "from bs4 import BeautifulSoup\n",
    "import random\n",
    " \n",
    "text = 'python'\n",
    "url = 'https://google.com/search?q=' + text\n",
    "A = (\"Mozilla/5.0 (Windows NT 6.1) AppleWebKit/537.36 (KHTML, like Gecko) Chrome/41.0.2228.0 Safari/537.36\",\n",
    "       \"Mozilla/5.0 (Macintosh; Intel Mac OS X 10_10_1) AppleWebKit/537.36 (KHTML, like Gecko) Chrome/41.0.2227.1 Safari/537.36\",\n",
    "       \"Mozilla/5.0 (Windows NT 6.1; WOW64) AppleWebKit/537.36 (KHTML, like Gecko) Chrome/41.0.2227.0 Safari/537.36\",\n",
    "       )\n",
    " \n",
    "Agent = A[random.randrange(len(A))]\n",
    " \n",
    "headers = {'user-agent': Agent}\n",
    "r = requests.get(url, headers=headers)\n",
    " \n",
    "soup = BeautifulSoup(r.text, 'lxml')\n",
    "for info in soup.find_all('h3'):\n",
    "    print(info.text)\n",
    "    print('#######')"
   ]
  },
  {
   "cell_type": "code",
   "execution_count": 29,
   "id": "670a4679",
   "metadata": {},
   "outputs": [],
   "source": [
    "html_doc = \"\"\"<html><head><title>The Dormouse's story</title></head>\n",
    "<body>\n",
    "<p class=\"title\"><b>The Dormouse's story</b></p>\n",
    "\n",
    "<p class=\"story\">Once upon a time there were three little sisters; and their names were\n",
    "<a href=\"http://example.com/elsie\" class=\"sister\" id=\"link1\">Elsie</a>,\n",
    "<a href=\"http://example.com/lacie\" class=\"sister\" id=\"link2\">Lacie</a> and\n",
    "<a href=\"http://example.com/tillie\" class=\"sister\" id=\"link3\">Tillie</a>;\n",
    "and they lived at the bottom of a well.</p>\n",
    "\n",
    "<p class=\"story\">...</p>\n",
    "\"\"\""
   ]
  },
  {
   "cell_type": "code",
   "execution_count": 30,
   "id": "a1ab7a47",
   "metadata": {},
   "outputs": [
    {
     "name": "stdout",
     "output_type": "stream",
     "text": [
      "<html>\n",
      " <head>\n",
      "  <title>\n",
      "   The Dormouse's story\n",
      "  </title>\n",
      " </head>\n",
      " <body>\n",
      "  <p class=\"title\">\n",
      "   <b>\n",
      "    The Dormouse's story\n",
      "   </b>\n",
      "  </p>\n",
      "  <p class=\"story\">\n",
      "   Once upon a time there were three little sisters; and their names were\n",
      "   <a class=\"sister\" href=\"http://example.com/elsie\" id=\"link1\">\n",
      "    Elsie\n",
      "   </a>\n",
      "   ,\n",
      "   <a class=\"sister\" href=\"http://example.com/lacie\" id=\"link2\">\n",
      "    Lacie\n",
      "   </a>\n",
      "   and\n",
      "   <a class=\"sister\" href=\"http://example.com/tillie\" id=\"link3\">\n",
      "    Tillie\n",
      "   </a>\n",
      "   ;\n",
      "and they lived at the bottom of a well.\n",
      "  </p>\n",
      "  <p class=\"story\">\n",
      "   ...\n",
      "  </p>\n",
      " </body>\n",
      "</html>\n"
     ]
    }
   ],
   "source": [
    "from bs4 import BeautifulSoup\n",
    "soup = BeautifulSoup(html_doc, 'html.parser')\n",
    "\n",
    "print(soup.prettify())"
   ]
  },
  {
   "cell_type": "code",
   "execution_count": 31,
   "id": "87ce5ec3",
   "metadata": {},
   "outputs": [
    {
     "data": {
      "text/plain": [
       "<title>The Dormouse's story</title>"
      ]
     },
     "execution_count": 31,
     "metadata": {},
     "output_type": "execute_result"
    }
   ],
   "source": [
    "soup.title"
   ]
  },
  {
   "cell_type": "code",
   "execution_count": 32,
   "id": "571568dd",
   "metadata": {},
   "outputs": [
    {
     "data": {
      "text/plain": [
       "'title'"
      ]
     },
     "execution_count": 32,
     "metadata": {},
     "output_type": "execute_result"
    }
   ],
   "source": [
    "soup.title.name"
   ]
  },
  {
   "cell_type": "code",
   "execution_count": 33,
   "id": "49b14f56",
   "metadata": {},
   "outputs": [
    {
     "data": {
      "text/plain": [
       "\"The Dormouse's story\""
      ]
     },
     "execution_count": 33,
     "metadata": {},
     "output_type": "execute_result"
    }
   ],
   "source": [
    "soup.title.string"
   ]
  },
  {
   "cell_type": "code",
   "execution_count": 34,
   "id": "9fadcc04",
   "metadata": {},
   "outputs": [
    {
     "data": {
      "text/plain": [
       "'head'"
      ]
     },
     "execution_count": 34,
     "metadata": {},
     "output_type": "execute_result"
    }
   ],
   "source": [
    "soup.title.parent.name"
   ]
  },
  {
   "cell_type": "code",
   "execution_count": 35,
   "id": "265dc5a4",
   "metadata": {},
   "outputs": [
    {
     "data": {
      "text/plain": [
       "<a class=\"sister\" href=\"http://example.com/elsie\" id=\"link1\">Elsie</a>"
      ]
     },
     "execution_count": 35,
     "metadata": {},
     "output_type": "execute_result"
    }
   ],
   "source": [
    "soup.a"
   ]
  },
  {
   "cell_type": "code",
   "execution_count": 36,
   "id": "4d72528d",
   "metadata": {},
   "outputs": [
    {
     "data": {
      "text/plain": [
       "[<a class=\"sister\" href=\"http://example.com/elsie\" id=\"link1\">Elsie</a>,\n",
       " <a class=\"sister\" href=\"http://example.com/lacie\" id=\"link2\">Lacie</a>,\n",
       " <a class=\"sister\" href=\"http://example.com/tillie\" id=\"link3\">Tillie</a>]"
      ]
     },
     "execution_count": 36,
     "metadata": {},
     "output_type": "execute_result"
    }
   ],
   "source": [
    "soup.find_all('a')"
   ]
  },
  {
   "cell_type": "code",
   "execution_count": 37,
   "id": "ee808c7a",
   "metadata": {},
   "outputs": [
    {
     "data": {
      "text/plain": [
       "<a class=\"sister\" href=\"http://example.com/tillie\" id=\"link3\">Tillie</a>"
      ]
     },
     "execution_count": 37,
     "metadata": {},
     "output_type": "execute_result"
    }
   ],
   "source": [
    "soup.find(id=\"link3\")"
   ]
  },
  {
   "cell_type": "code",
   "execution_count": 38,
   "id": "ced06957",
   "metadata": {},
   "outputs": [
    {
     "name": "stdout",
     "output_type": "stream",
     "text": [
      "http://example.com/elsie\n",
      "http://example.com/lacie\n",
      "http://example.com/tillie\n"
     ]
    }
   ],
   "source": [
    "for link in soup.find_all('a'):\n",
    "    print(link.get('href'))"
   ]
  },
  {
   "cell_type": "code",
   "execution_count": 39,
   "id": "2619260e",
   "metadata": {},
   "outputs": [
    {
     "name": "stdout",
     "output_type": "stream",
     "text": [
      "The Dormouse's story\n",
      "\n",
      "The Dormouse's story\n",
      "Once upon a time there were three little sisters; and their names were\n",
      "Elsie,\n",
      "Lacie and\n",
      "Tillie;\n",
      "and they lived at the bottom of a well.\n",
      "...\n",
      "\n"
     ]
    }
   ],
   "source": [
    "print(soup.get_text())"
   ]
  },
  {
   "cell_type": "code",
   "execution_count": null,
   "id": "4e8a819a",
   "metadata": {},
   "outputs": [],
   "source": []
  }
 ],
 "metadata": {
  "kernelspec": {
   "display_name": "Python 3 (ipykernel)",
   "language": "python",
   "name": "python3"
  },
  "language_info": {
   "codemirror_mode": {
    "name": "ipython",
    "version": 3
   },
   "file_extension": ".py",
   "mimetype": "text/x-python",
   "name": "python",
   "nbconvert_exporter": "python",
   "pygments_lexer": "ipython3",
   "version": "3.9.7"
  }
 },
 "nbformat": 4,
 "nbformat_minor": 5
}
